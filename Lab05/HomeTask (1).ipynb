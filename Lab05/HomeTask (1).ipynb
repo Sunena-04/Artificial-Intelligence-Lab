{
 "cells": [
  {
   "cell_type": "code",
   "execution_count": 1,
   "id": "68ab573a-0419-4fb5-aa8f-5ff4503420f3",
   "metadata": {},
   "outputs": [
    {
     "name": "stdout",
     "output_type": "stream",
     "text": [
      "Confusion Matrix:\n",
      "[[1 0]\n",
      " [1 1]]\n",
      "Accuracy: 66.67%\n",
      "Predicted edibility for Yellow color and weight 90: No\n"
     ]
    }
   ],
   "source": [
    "import numpy as np\n",
    "from sklearn.tree import DecisionTreeClassifier\n",
    "from sklearn.model_selection import train_test_split\n",
    "from sklearn.metrics import confusion_matrix, accuracy_score\n",
    "from sklearn.preprocessing import LabelEncoder\n",
    "# Data (Fruit, Color, Weight, Edible)\n",
    "fruit = ['Apple', 'Lemon', 'Cherry', 'Avocado', 'Berry', 'Olive', 'Banana', 'Grapefruit', 'Tomato', 'Lime', 'Blueberry', 'Blackberry', 'Poisonberry']\n",
    "color = ['Red', 'Yellow', 'Red', 'Green', 'Purple', 'Green', 'Yellow', 'Pink', 'Red', 'Green', 'Blue', 'Black', 'Purple']\n",
    "weight = [150, 120, 10, 200, 5, 5, 110, 250, 100, 60, 1, 3, 3]\n",
    "edible = ['Yes', 'No', 'Yes', 'No', 'Yes', 'No', 'No', 'Yes', 'Yes', 'No', 'No', 'Yes', 'No']\n",
    "# Encode the categorical variables (Fruit, Color, Edible)\n",
    "le_fruit = LabelEncoder()\n",
    "le_color = LabelEncoder()\n",
    "le_edible = LabelEncoder()\n",
    "fruit_encoded = le_fruit.fit_transform(fruit)\n",
    "color_encoded = le_color.fit_transform(color)\n",
    "edible_encoded = le_edible.fit_transform(edible)\n",
    "# Bin the weight into categories\n",
    "weight_binned = np.digitize(weight, bins=[50, 100, 150, 200])  # Weight categories based on the provided bins\n",
    "# Combine features (fruit, color, weight) into one matrix (X)\n",
    "X = np.column_stack((fruit_encoded, color_encoded, weight_binned))\n",
    "# Target variable (Edible)\n",
    "y = edible_encoded\n",
    "# Split the dataset into training and testing sets (80% train, 20% test)\n",
    "X_train, X_test, y_train, y_test = train_test_split(X, y, test_size=0.2, random_state=42)\n",
    "# Initialize and train the Decision Tree Classifier\n",
    "clf = DecisionTreeClassifier(random_state=42)\n",
    "clf.fit(X_train, y_train)\n",
    "# Predict on the test set\n",
    "y_pred = clf.predict(X_test)\n",
    "# Print confusion matrix and accuracy\n",
    "conf_matrix = confusion_matrix(y_test, y_pred)\n",
    "accuracy = accuracy_score(y_test, y_pred)\n",
    "print(\"Confusion Matrix:\")\n",
    "print(conf_matrix)\n",
    "print(f\"Accuracy: {accuracy * 100:.2f}%\")\n",
    "# Predict on a new entry: Example: Yellow color and weight 90\n",
    "new_feature = np.array([[le_fruit.transform(['Banana'])[0], le_color.transform(['Yellow'])[0], np.digitize(90, bins=[50, 100, 150, 200])]])\n",
    "predicted_edibility = clf.predict(new_feature)\n",
    "predicted_edibility_label = le_edible.inverse_transform(predicted_edibility)\n",
    "print(f\"Predicted edibility for Yellow color and weight 90: {predicted_edibility_label[0]}\")"
   ]
  },
  {
   "cell_type": "code",
   "execution_count": null,
   "id": "5a5d4f32-2d01-49d7-9f20-bc967e1e7bc9",
   "metadata": {},
   "outputs": [],
   "source": []
  }
 ],
 "metadata": {
  "kernelspec": {
   "display_name": "Python 3 (ipykernel)",
   "language": "python",
   "name": "python3"
  },
  "language_info": {
   "codemirror_mode": {
    "name": "ipython",
    "version": 3
   },
   "file_extension": ".py",
   "mimetype": "text/x-python",
   "name": "python",
   "nbconvert_exporter": "python",
   "pygments_lexer": "ipython3",
   "version": "3.12.7"
  }
 },
 "nbformat": 4,
 "nbformat_minor": 5
}
