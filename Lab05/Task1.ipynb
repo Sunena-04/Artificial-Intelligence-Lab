{
 "cells": [
  {
   "cell_type": "code",
   "execution_count": 50,
   "id": "bfbed445-5a26-434e-8c94-5d47cd3fab44",
   "metadata": {},
   "outputs": [
    {
     "name": "stdout",
     "output_type": "stream",
     "text": [
      "Confusion Matrix:\n",
      "[[1 0]\n",
      " [0 2]]\n"
     ]
    },
    {
     "name": "stdin",
     "output_type": "stream",
     "text": [
      "Enter height:  4\n",
      "Enter weight:  66\n",
      "Enter foot size:  9\n"
     ]
    },
    {
     "name": "stdout",
     "output_type": "stream",
     "text": [
      "The predicted gender for the new entry is: female\n"
     ]
    },
    {
     "name": "stderr",
     "output_type": "stream",
     "text": [
      "C:\\Users\\HP\\anaconda3\\Lib\\site-packages\\sklearn\\base.py:493: UserWarning: X does not have valid feature names, but DecisionTreeClassifier was fitted with feature names\n",
      "  warnings.warn(\n"
     ]
    }
   ],
   "source": [
    "import pandas as pd\n",
    "from sklearn.tree import DecisionTreeClassifier\n",
    "from sklearn.model_selection import train_test_split\n",
    "from sklearn.metrics import confusion_matrix\n",
    "# Step 1: Load data from the Excel file\n",
    "file_path = pd.ExcelFile('Lab05Sheet.xlsx')  # Replace with your actual file path\n",
    "df = file_path.parse(file_path.sheet_names[0])  # Specify the sheet name\n",
    "# Step 2: Encode the 'Gender' column (male=1, female=0)\n",
    "df['Gender'] = df['Gender'].map({'male': 1, 'female': 0})\n",
    "# Features (Height, Weight, Foot Size)\n",
    "X = df[['Height', 'Weight', 'Foot Size']]\n",
    "# Target variable (Gender)\n",
    "y = df['Gender']\n",
    "# Split data into training and testing sets\n",
    "X_train, X_test, y_train, y_test = train_test_split(X, y, test_size=0.3, random_state=42)\n",
    "# Initialize the Decision Tree Classifier\n",
    "clf = DecisionTreeClassifier()\n",
    "# Train the classifier\n",
    "clf.fit(X_train, y_train)\n",
    "# Step 3: Predict on the test set\n",
    "y_pred = clf.predict(X_test)\n",
    "# Step 4: Confusion Matrix\n",
    "conf_matrix = confusion_matrix(y_test, y_pred)\n",
    "# Print confusion matrix\n",
    "print(\"Confusion Matrix:\")\n",
    "print(conf_matrix)\n",
    "# Step 5: Get user input for new entry\n",
    "height = float(input(\"Enter height: \"))\n",
    "weight = float(input(\"Enter weight: \"))\n",
    "foot_size = float(input(\"Enter foot size: \"))\n",
    "# Step 6: Predict the gender for the new entry\n",
    "new_entry = [[height, weight, foot_size]]\n",
    "predicted_gender = clf.predict(new_entry)\n",
    "# Convert the predicted value back to gender (1 -> male, 0 -> female)\n",
    "predicted_gender_label = 'male' if predicted_gender == 1 else 'female'\n",
    "# Print the prediction result\n",
    "print(f\"The predicted gender for the new entry is: {predicted_gender_label}\")"
   ]
  },
  {
   "cell_type": "code",
   "execution_count": null,
   "id": "94edbc3f-442f-4b55-beb4-59d286e336a8",
   "metadata": {},
   "outputs": [],
   "source": []
  },
  {
   "cell_type": "code",
   "execution_count": null,
   "id": "e14f287f-b0d2-49d3-b67a-6561f6b5cad5",
   "metadata": {},
   "outputs": [],
   "source": []
  }
 ],
 "metadata": {
  "kernelspec": {
   "display_name": "Python 3 (ipykernel)",
   "language": "python",
   "name": "python3"
  },
  "language_info": {
   "codemirror_mode": {
    "name": "ipython",
    "version": 3
   },
   "file_extension": ".py",
   "mimetype": "text/x-python",
   "name": "python",
   "nbconvert_exporter": "python",
   "pygments_lexer": "ipython3",
   "version": "3.12.7"
  }
 },
 "nbformat": 4,
 "nbformat_minor": 5
}
