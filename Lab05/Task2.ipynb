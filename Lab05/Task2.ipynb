{
 "cells": [
  {
   "cell_type": "code",
   "execution_count": 13,
   "id": "f1b2ad8c-61b8-41a2-a3e1-340e352a0152",
   "metadata": {},
   "outputs": [
    {
     "name": "stdin",
     "output_type": "stream",
     "text": [
      "Enter height:  4.5\n",
      "Enter weight:  77\n",
      "Enter foot size:  11\n"
     ]
    },
    {
     "name": "stdout",
     "output_type": "stream",
     "text": [
      "The predicted gender for the new entry is: female\n",
      "Updated Confusion Matrix:\n",
      "[[5 0]\n",
      " [0 4]]\n",
      "Updated Accuracy: 100.00%\n"
     ]
    },
    {
     "name": "stderr",
     "output_type": "stream",
     "text": [
      "C:\\Users\\HP\\anaconda3\\Lib\\site-packages\\sklearn\\base.py:493: UserWarning: X does not have valid feature names, but DecisionTreeClassifier was fitted with feature names\n",
      "  warnings.warn(\n"
     ]
    }
   ],
   "source": [
    "import pandas as pd\n",
    "from sklearn.tree import DecisionTreeClassifier\n",
    "from sklearn.metrics import confusion_matrix, accuracy_score\n",
    "file_path = pd.ExcelFile('Lab05Sheet.xlsx')  # Replace with your actual file path\n",
    "df = file_path.parse(file_path.sheet_names[0])  # Specify the sheet name\n",
    "# Step 2: Encode the 'Gender' column (male=1, female=0)\n",
    "df['Gender'] = df['Gender'].map({'male': 1, 'female': 0})\n",
    "# Features (Height, Weight, Foot Size)\n",
    "X = df[['Height', 'Weight', 'Foot Size']]\n",
    "# Target variable (Gender)\n",
    "y = df['Gender']\n",
    "# Step 3: Initialize the Decision Tree Classifier\n",
    "clf = DecisionTreeClassifier()\n",
    "# Step 4: Train the classifier on the original dataset\n",
    "clf.fit(X, y)\n",
    "# Step 5: Get user input for new entry\n",
    "height = float(input(\"Enter height: \"))\n",
    "weight = float(input(\"Enter weight: \"))\n",
    "foot_size = float(input(\"Enter foot size: \"))\n",
    "# Step 6: Predict the gender for the new entry\n",
    "new_entry = [[height, weight, foot_size]]\n",
    "predicted_gender = clf.predict(new_entry)\n",
    "# Convert the predicted value back to gender (1 -> male, 0 -> female)\n",
    "predicted_gender_label = 'male' if predicted_gender == 1 else 'female'\n",
    "# Print the prediction result\n",
    "print(f\"The predicted gender for the new entry is: {predicted_gender_label}\")\n",
    "# Step 7: Append the new entry to the dataset\n",
    "new_data = pd.DataFrame([[height, weight, foot_size, 1 if predicted_gender == 1 else 0]], \n",
    "                        columns=['Height', 'Weight', 'Foot Size', 'Gender'])\n",
    "df = pd.concat([df, new_data], ignore_index=True)\n",
    "# Step 8: Update the features and target variable with the new dataset\n",
    "X_updated = df[['Height', 'Weight', 'Foot Size']]\n",
    "y_updated = df['Gender']\n",
    "# Step 9: Retrain the Decision Tree Classifier with the updated dataset\n",
    "clf.fit(X_updated, y_updated)\n",
    "# Step 10: Predict on the updated dataset\n",
    "y_pred_updated = clf.predict(X_updated)\n",
    "# Step 11: Print the updated confusion matrix\n",
    "conf_matrix_updated = confusion_matrix(y_updated, y_pred_updated)\n",
    "print(\"Updated Confusion Matrix:\")\n",
    "print(conf_matrix_updated)\n",
    "# Step 12: Calculate and print the accuracy of the updated model (calculated at runtime)\n",
    "accuracy_updated = accuracy_score(y_updated, y_pred_updated)\n",
    "print(f\"Updated Accuracy: {accuracy_updated * 100:.2f}%\")\n"
   ]
  },
  {
   "cell_type": "code",
   "execution_count": null,
   "id": "686a7d2e-9f2f-4169-b3d1-60284344c0f3",
   "metadata": {},
   "outputs": [],
   "source": []
  }
 ],
 "metadata": {
  "kernelspec": {
   "display_name": "Python 3 (ipykernel)",
   "language": "python",
   "name": "python3"
  },
  "language_info": {
   "codemirror_mode": {
    "name": "ipython",
    "version": 3
   },
   "file_extension": ".py",
   "mimetype": "text/x-python",
   "name": "python",
   "nbconvert_exporter": "python",
   "pygments_lexer": "ipython3",
   "version": "3.12.7"
  }
 },
 "nbformat": 4,
 "nbformat_minor": 5
}
