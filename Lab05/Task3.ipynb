{
 "cells": [
  {
   "cell_type": "code",
   "execution_count": 15,
   "id": "5cf2382d-8d39-4103-8065-b41f1676d216",
   "metadata": {},
   "outputs": [
    {
     "name": "stdout",
     "output_type": "stream",
     "text": [
      "Confusion Matrix:\n",
      "[[1 0]\n",
      " [0 2]]\n",
      "Accuracy: 1.0\n"
     ]
    },
    {
     "name": "stdin",
     "output_type": "stream",
     "text": [
      "Enter height:  4.5\n",
      "Enter weight:  75\n",
      "Enter foot size:  11\n"
     ]
    },
    {
     "name": "stdout",
     "output_type": "stream",
     "text": [
      "The predicted gender for the new entry is: male\n"
     ]
    }
   ],
   "source": [
    "import numpy as np\n",
    "from sklearn.tree import DecisionTreeClassifier\n",
    "from sklearn.metrics import confusion_matrix, accuracy_score\n",
    "from sklearn.model_selection import train_test_split\n",
    "# Step 1: Define the dataset manually (as in the table provided)\n",
    "# Data (Height, Weight, Foot Size, Gender)\n",
    "data = np.array([\n",
    "    [6, 180, 12, 1],  # Male\n",
    "    [5.92, 190, 11, 1],  # Male\n",
    "    [5.58, 170, 12, 1],  # Male\n",
    "    [5.92, 165, 10, 1],  # Male\n",
    "    [5, 100, 6, 0],  # Female\n",
    "    [5.5, 150, 8, 0],  # Female\n",
    "    [5.42, 130, 60, 0],  # Female (likely error in foot size)\n",
    "    [5.75, 150, 9, 0]  # Female\n",
    "])\n",
    "# Step 2: Split data into features (X) and target (y)\n",
    "X = data[:, :-1]  # All columns except the last (Height, Weight, Foot Size)\n",
    "y = data[:, -1]   # Only the last column (Gender)\n",
    "# Step 3: Split the data into training and testing sets\n",
    "X_train, X_test, y_train, y_test = train_test_split(X, y, test_size=0.3, random_state=42)\n",
    "# Step 4: Initialize the Decision Tree Classifier\n",
    "clf = DecisionTreeClassifier()\n",
    "# Step 5: Train the classifier\n",
    "clf.fit(X_train, y_train)\n",
    "# Step 6: Predict on the test set\n",
    "y_pred = clf.predict(X_test)\n",
    "# Step 7: Calculate the confusion matrix and accuracy\n",
    "conf_matrix = confusion_matrix(y_test, y_pred)\n",
    "accuracy = accuracy_score(y_test, y_pred)\n",
    "# Output the confusion matrix and accuracy\n",
    "print(\"Confusion Matrix:\")\n",
    "print(conf_matrix)\n",
    "#accuracy = accuracy_score(label_test, predicted)\n",
    "print(\"Accuracy:\", accuracy)\n",
    "# Step 8: Get user input for new entry (e.g., height, weight, foot size)\n",
    "height = float(input(\"Enter height: \"))\n",
    "weight = float(input(\"Enter weight: \"))\n",
    "foot_size = float(input(\"Enter foot size: \"))\n",
    "# Step 9: Predict the gender for the new entry\n",
    "new_entry = np.array([[height, weight, foot_size]])  # New data point\n",
    "predicted_gender = clf.predict(new_entry)\n",
    "# Convert the predicted value back to gender (1 -> female, 0 -> male)\n",
    "predicted_gender_label = 'male' if predicted_gender == 0 else 'female'\n",
    "# Print the prediction result\n",
    "print(f\"The predicted gender for the new entry is: {predicted_gender_label}\")\n"
   ]
  },
  {
   "cell_type": "code",
   "execution_count": null,
   "id": "f324e9bd-a2e0-4a16-aebd-3d32f9d26491",
   "metadata": {},
   "outputs": [],
   "source": []
  }
 ],
 "metadata": {
  "kernelspec": {
   "display_name": "Python 3 (ipykernel)",
   "language": "python",
   "name": "python3"
  },
  "language_info": {
   "codemirror_mode": {
    "name": "ipython",
    "version": 3
   },
   "file_extension": ".py",
   "mimetype": "text/x-python",
   "name": "python",
   "nbconvert_exporter": "python",
   "pygments_lexer": "ipython3",
   "version": "3.12.7"
  }
 },
 "nbformat": 4,
 "nbformat_minor": 5
}
