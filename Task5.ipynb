{
 "cells": [
  {
   "cell_type": "code",
   "execution_count": 10,
   "id": "280bceec-4e00-4c78-bf70-1301a5370f69",
   "metadata": {},
   "outputs": [
    {
     "name": "stdout",
     "output_type": "stream",
     "text": [
      "Accuracy: 0.5\n",
      "Confusion Matrix:\n",
      "[[1 0]\n",
      " [1 0]]\n",
      "Classification Report:\n",
      "              precision    recall  f1-score   support\n",
      "\n",
      "   disease A       0.50      1.00      0.67         1\n",
      "   disease B       0.00      0.00      0.00         1\n",
      "\n",
      "    accuracy                           0.50         2\n",
      "   macro avg       0.25      0.50      0.33         2\n",
      "weighted avg       0.25      0.50      0.33         2\n",
      "\n",
      "The new patient is diagnosed with: disease A\n"
     ]
    },
    {
     "name": "stderr",
     "output_type": "stream",
     "text": [
      "C:\\Users\\HP\\anaconda3\\Lib\\site-packages\\sklearn\\metrics\\_classification.py:1531: UndefinedMetricWarning: Precision is ill-defined and being set to 0.0 in labels with no predicted samples. Use `zero_division` parameter to control this behavior.\n",
      "  _warn_prf(average, modifier, f\"{metric.capitalize()} is\", len(result))\n",
      "C:\\Users\\HP\\anaconda3\\Lib\\site-packages\\sklearn\\metrics\\_classification.py:1531: UndefinedMetricWarning: Precision is ill-defined and being set to 0.0 in labels with no predicted samples. Use `zero_division` parameter to control this behavior.\n",
      "  _warn_prf(average, modifier, f\"{metric.capitalize()} is\", len(result))\n",
      "C:\\Users\\HP\\anaconda3\\Lib\\site-packages\\sklearn\\metrics\\_classification.py:1531: UndefinedMetricWarning: Precision is ill-defined and being set to 0.0 in labels with no predicted samples. Use `zero_division` parameter to control this behavior.\n",
      "  _warn_prf(average, modifier, f\"{metric.capitalize()} is\", len(result))\n",
      "C:\\Users\\HP\\anaconda3\\Lib\\site-packages\\sklearn\\base.py:493: UserWarning: X does not have valid feature names, but StandardScaler was fitted with feature names\n",
      "  warnings.warn(\n"
     ]
    }
   ],
   "source": [
    "from sklearn.ensemble import RandomForestClassifier\n",
    "from sklearn.model_selection import train_test_split\n",
    "from sklearn.preprocessing import StandardScaler\n",
    "from sklearn.metrics import accuracy_score, confusion_matrix, classification_report\n",
    "# Sample dataset (more examples needed for better performance)\n",
    "data = {\n",
    "    \"Fever\": [1, 0, 1, 0, 1, 1, 0, 1, 0, 1],\n",
    "    \"Cough\": [1, 0, 1, 1, 0, 1, 0, 1, 1, 0],\n",
    "    \"Fatigue\": [1, 0, 0, 1, 1, 1, 1, 0, 0, 1],\n",
    "    \"Shortness_of_Breath\": [1, 0, 0, 0, 1, 1, 0, 1, 0, 0],\n",
    "    \"Disease\": [\"disease A\", \"disease B\", \"disease A\", \"disease B\", \"disease A\", \n",
    "                \"disease B\", \"disease A\", \"disease B\", \"disease A\", \"disease B\"]\n",
    "}\n",
    "# Convert to DataFrame\n",
    "df = pd.DataFrame(data)\n",
    "# Features and target\n",
    "X = df[[\"Fever\", \"Cough\", \"Fatigue\", \"Shortness_of_Breath\"]]\n",
    "y = df[\"Disease\"]\n",
    "# Split data into training and testing sets\n",
    "X_train, X_test, y_train, y_test = train_test_split(X, y, test_size=0.2, random_state=42)\n",
    "# Standardize the features\n",
    "scaler = StandardScaler()\n",
    "X_train = scaler.fit_transform(X_train)\n",
    "X_test = scaler.transform(X_test)\n",
    "# Initialize Random Forest model with class_weight=\"balanced\" to handle imbalanced classes\n",
    "model = RandomForestClassifier(class_weight=\"balanced\", random_state=44)\n",
    "# Train the model\n",
    "model.fit(X_train, y_train)\n",
    "# Make predictions on the test set\n",
    "y_pred = model.predict(X_test)\n",
    "# Evaluate the model\n",
    "accuracy = accuracy_score(y_test, y_pred)\n",
    "conf_matrix = confusion_matrix(y_test, y_pred)\n",
    "class_report = classification_report(y_test, y_pred)\n",
    "# Print the evaluation results\n",
    "print(f\"Accuracy: {accuracy}\")\n",
    "print(\"Confusion Matrix:\")\n",
    "print(conf_matrix)\n",
    "print(\"Classification Report:\")\n",
    "print(class_report)\n",
    "# To predict a new entry\n",
    "new_patient = [[1, 0, 1, 1]]  # Example symptoms: Fever, Cough, Fatigue, Shortness of Breath\n",
    "new_patient_scaled = scaler.transform(new_patient)\n",
    "prediction = model.predict(new_patient_scaled)\n",
    "print(f\"The new patient is diagnosed with: {prediction[0]}\")"
   ]
  },
  {
   "cell_type": "code",
   "execution_count": null,
   "id": "d6e4f56e-cd75-4a65-a143-373e8b7e7363",
   "metadata": {},
   "outputs": [],
   "source": []
  }
 ],
 "metadata": {
  "kernelspec": {
   "display_name": "Python 3 (ipykernel)",
   "language": "python",
   "name": "python3"
  },
  "language_info": {
   "codemirror_mode": {
    "name": "ipython",
    "version": 3
   },
   "file_extension": ".py",
   "mimetype": "text/x-python",
   "name": "python",
   "nbconvert_exporter": "python",
   "pygments_lexer": "ipython3",
   "version": "3.12.7"
  }
 },
 "nbformat": 4,
 "nbformat_minor": 5
}
