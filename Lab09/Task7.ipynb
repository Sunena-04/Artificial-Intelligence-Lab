{
 "cells": [
  {
   "cell_type": "code",
   "execution_count": 13,
   "id": "97b8bf6c-a503-445e-a21a-2dcbcded7907",
   "metadata": {},
   "outputs": [
    {
     "name": "stdout",
     "output_type": "stream",
     "text": [
      "A: ['B', 'C', 'E']\n",
      "B: ['A', 'C']\n",
      "C: ['A', 'B', 'E', 'D']\n",
      "D: ['C']\n",
      "E: ['A', 'C']\n"
     ]
    }
   ],
   "source": [
    "class Vertex:\n",
    "    def __init__(self, name):\n",
    "        self.name = name\n",
    "        self.neighbors = []\n",
    "\n",
    "    def add_neighbor(self, neighbor):\n",
    "        self.neighbors.append(neighbor)\n",
    "\n",
    "class Graph:\n",
    "    def __init__(self):\n",
    "        self.vertices = {}\n",
    "\n",
    "    def add_vertex(self, vertex_name):\n",
    "        if vertex_name not in self.vertices:\n",
    "            self.vertices[vertex_name] = Vertex(vertex_name)\n",
    "\n",
    "    def add_edge(self, vertex_name1, vertex_name2):\n",
    "        # Add edge in both directions (undirected graph)\n",
    "        if vertex_name1 in self.vertices and vertex_name2 in self.vertices:\n",
    "            self.vertices[vertex_name1].add_neighbor(self.vertices[vertex_name2])\n",
    "            self.vertices[vertex_name2].add_neighbor(self.vertices[vertex_name1])\n",
    "\n",
    "    def display_graph(self):\n",
    "        # Display the adjacency list representation of the graph\n",
    "        for vertex in self.vertices:\n",
    "            print(f\"{vertex}: {[neighbor.name for neighbor in self.vertices[vertex].neighbors]}\")\n",
    "\n",
    "# Create a graph and add vertices and edges\n",
    "graph = Graph()\n",
    "\n",
    "# Add vertices A, B, C, D, E\n",
    "graph.add_vertex(\"A\")\n",
    "graph.add_vertex(\"B\")\n",
    "graph.add_vertex(\"C\")\n",
    "graph.add_vertex(\"D\")\n",
    "graph.add_vertex(\"E\")\n",
    "\n",
    "# Add edges between the vertices\n",
    "graph.add_edge(\"A\", \"B\")\n",
    "graph.add_edge(\"A\", \"C\")\n",
    "graph.add_edge(\"A\", \"E\")\n",
    "graph.add_edge(\"B\", \"C\")\n",
    "graph.add_edge(\"C\", \"E\")\n",
    "graph.add_edge(\"C\", \"D\")\n",
    "\n",
    "# Display the graph\n",
    "graph.display_graph()\n"
   ]
  },
  {
   "cell_type": "code",
   "execution_count": null,
   "id": "57518fd2-2be4-4dcc-b4ae-c63d534a466b",
   "metadata": {},
   "outputs": [],
   "source": []
  }
 ],
 "metadata": {
  "kernelspec": {
   "display_name": "Python 3 (ipykernel)",
   "language": "python",
   "name": "python3"
  },
  "language_info": {
   "codemirror_mode": {
    "name": "ipython",
    "version": 3
   },
   "file_extension": ".py",
   "mimetype": "text/x-python",
   "name": "python",
   "nbconvert_exporter": "python",
   "pygments_lexer": "ipython3",
   "version": "3.12.7"
  }
 },
 "nbformat": 4,
 "nbformat_minor": 5
}
