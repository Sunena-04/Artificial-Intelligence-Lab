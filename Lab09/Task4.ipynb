{
 "cells": [
  {
   "cell_type": "code",
   "execution_count": 1,
   "id": "148d23e8-a4ed-4924-9d91-76048795fc2f",
   "metadata": {},
   "outputs": [
    {
     "name": "stdout",
     "output_type": "stream",
     "text": [
      "Employee Name: John Doe, Salary: 50000\n",
      "Employee Name: Jane Smith, Salary: 55000\n",
      "Total Employees: 2\n"
     ]
    }
   ],
   "source": [
    "class Employee:\n",
    "    # Initialize employee name and salary\n",
    "    employee_count = 0  # Class variable to count number of employees\n",
    "\n",
    "    def __init__(self, empName, salary):\n",
    "        self.empName = empName\n",
    "        self.salary = salary\n",
    "        Employee.employee_count += 1\n",
    "\n",
    "    def displayEmployee(self):\n",
    "        print(f\"Employee Name: {self.empName}, Salary: {self.salary}\")\n",
    "\n",
    "    @classmethod\n",
    "    def displayCount(cls):\n",
    "        print(f\"Total Employees: {cls.employee_count}\")\n",
    "\n",
    "# Create employee instances\n",
    "emp1 = Employee(\"John Doe\", 50000)\n",
    "emp2 = Employee(\"Jane Smith\", 55000)\n",
    "\n",
    "# Display information\n",
    "emp1.displayEmployee()\n",
    "emp2.displayEmployee()\n",
    "Employee.displayCount()\n"
   ]
  },
  {
   "cell_type": "code",
   "execution_count": null,
   "id": "3cbc45c7-b851-4038-8268-27fb50812e29",
   "metadata": {},
   "outputs": [],
   "source": []
  }
 ],
 "metadata": {
  "kernelspec": {
   "display_name": "Python 3 (ipykernel)",
   "language": "python",
   "name": "python3"
  },
  "language_info": {
   "codemirror_mode": {
    "name": "ipython",
    "version": 3
   },
   "file_extension": ".py",
   "mimetype": "text/x-python",
   "name": "python",
   "nbconvert_exporter": "python",
   "pygments_lexer": "ipython3",
   "version": "3.12.7"
  }
 },
 "nbformat": 4,
 "nbformat_minor": 5
}
