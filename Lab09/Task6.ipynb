{
 "cells": [
  {
   "cell_type": "code",
   "execution_count": 1,
   "id": "8c0b60e7-40d1-49a2-b9cc-3e3a25838c44",
   "metadata": {},
   "outputs": [
    {
     "name": "stdout",
     "output_type": "stream",
     "text": [
      "[8, 7, 4, 3, 1]\n"
     ]
    }
   ],
   "source": [
    "import heapq\n",
    "\n",
    "# List of elements\n",
    "elements = [4, 8, 1, 7, 3]\n",
    "\n",
    "# Create a max-heap by negating the values\n",
    "max_heap = []\n",
    "\n",
    "# Insert elements into the max-heap\n",
    "for element in elements:\n",
    "    heapq.heappush(max_heap, -element)\n",
    "\n",
    "# Pop elements from the max-heap\n",
    "sorted_elements = []\n",
    "while max_heap:\n",
    "    sorted_elements.append(-heapq.heappop(max_heap))\n",
    "\n",
    "# Print the sorted elements (in descending order)\n",
    "print(sorted_elements)\n"
   ]
  },
  {
   "cell_type": "code",
   "execution_count": null,
   "id": "b4871bb0-21c6-42bb-987f-07aa8cb866d3",
   "metadata": {},
   "outputs": [],
   "source": []
  }
 ],
 "metadata": {
  "kernelspec": {
   "display_name": "Python 3 (ipykernel)",
   "language": "python",
   "name": "python3"
  },
  "language_info": {
   "codemirror_mode": {
    "name": "ipython",
    "version": 3
   },
   "file_extension": ".py",
   "mimetype": "text/x-python",
   "name": "python",
   "nbconvert_exporter": "python",
   "pygments_lexer": "ipython3",
   "version": "3.12.7"
  }
 },
 "nbformat": 4,
 "nbformat_minor": 5
}
