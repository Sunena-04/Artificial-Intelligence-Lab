{
 "cells": [
  {
   "cell_type": "code",
   "execution_count": 1,
   "id": "d678f5fc-5f96-42c8-9a25-e03c15611a0d",
   "metadata": {},
   "outputs": [
    {
     "name": "stdout",
     "output_type": "stream",
     "text": [
      "Dear Albert Einstein, I would like to invite you to dinner.\n",
      "Dear Isaac Newton, I would like to invite you to dinner.\n",
      "Dear Leonardo da Vinci, I would like to invite you to dinner.\n"
     ]
    }
   ],
   "source": [
    "# Modify the guest list and invite someone else\n",
    "guests = ['Albert Einstein', 'Marie Curie', 'Leonardo da Vinci']\n",
    "\n",
    "# Assume that \"Marie Curie\" can't make it, so we replace her with \"Isaac Newton\"\n",
    "guests[1] = 'Isaac Newton'\n",
    "\n",
    "# Print a second set of invitation messages\n",
    "for guest in guests:\n",
    "    print(f\"Dear {guest}, I would like to invite you to dinner.\")\n"
   ]
  },
  {
   "cell_type": "code",
   "execution_count": null,
   "id": "000a469c-8323-45be-a926-0a9ebc76ded6",
   "metadata": {},
   "outputs": [],
   "source": []
  }
 ],
 "metadata": {
  "kernelspec": {
   "display_name": "Python 3 (ipykernel)",
   "language": "python",
   "name": "python3"
  },
  "language_info": {
   "codemirror_mode": {
    "name": "ipython",
    "version": 3
   },
   "file_extension": ".py",
   "mimetype": "text/x-python",
   "name": "python",
   "nbconvert_exporter": "python",
   "pygments_lexer": "ipython3",
   "version": "3.12.7"
  }
 },
 "nbformat": 4,
 "nbformat_minor": 5
}
