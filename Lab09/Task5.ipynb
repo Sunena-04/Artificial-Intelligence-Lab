{
 "cells": [
  {
   "cell_type": "code",
   "execution_count": 1,
   "id": "0391b09a-bccc-4ef7-9f57-054422a4007a",
   "metadata": {},
   "outputs": [
    {
     "name": "stdout",
     "output_type": "stream",
     "text": [
      "3\n",
      "2\n",
      "1\n"
     ]
    }
   ],
   "source": [
    "import queue\n",
    "\n",
    "# Initialize a LIFO Queue\n",
    "lifo_queue = queue.LifoQueue()\n",
    "\n",
    "# Insert elements into the queue\n",
    "lifo_queue.put(1)\n",
    "lifo_queue.put(2)\n",
    "lifo_queue.put(3)\n",
    "\n",
    "# Remove and print elements in LIFO order\n",
    "while not lifo_queue.empty():\n",
    "    print(lifo_queue.get())\n"
   ]
  },
  {
   "cell_type": "code",
   "execution_count": null,
   "id": "b6d1a7aa-72a5-4946-8a33-87e278b97ac0",
   "metadata": {},
   "outputs": [],
   "source": []
  }
 ],
 "metadata": {
  "kernelspec": {
   "display_name": "Python 3 (ipykernel)",
   "language": "python",
   "name": "python3"
  },
  "language_info": {
   "codemirror_mode": {
    "name": "ipython",
    "version": 3
   },
   "file_extension": ".py",
   "mimetype": "text/x-python",
   "name": "python",
   "nbconvert_exporter": "python",
   "pygments_lexer": "ipython3",
   "version": "3.12.7"
  }
 },
 "nbformat": 4,
 "nbformat_minor": 5
}
