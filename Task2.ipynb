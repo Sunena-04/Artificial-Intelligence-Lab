{
 "cells": [
  {
   "cell_type": "code",
   "execution_count": 9,
   "id": "b1afb6a9-21ef-4656-a083-06882fac4c40",
   "metadata": {},
   "outputs": [
    {
     "name": "stdout",
     "output_type": "stream",
     "text": [
      "Accuracy: 0.5\n",
      "\n",
      "Classification Report:\n",
      "               precision    recall  f1-score   support\n",
      "\n",
      "           0       0.00      0.00      0.00         1\n",
      "           1       0.50      1.00      0.67         1\n",
      "\n",
      "    accuracy                           0.50         2\n",
      "   macro avg       0.25      0.50      0.33         2\n",
      "weighted avg       0.25      0.50      0.33         2\n",
      "\n",
      "\n",
      "Predicted Performance for New Student: Pass\n"
     ]
    },
    {
     "name": "stderr",
     "output_type": "stream",
     "text": [
      "C:\\Users\\HP\\anaconda3\\Lib\\site-packages\\sklearn\\metrics\\_classification.py:1531: UndefinedMetricWarning: Precision is ill-defined and being set to 0.0 in labels with no predicted samples. Use `zero_division` parameter to control this behavior.\n",
      "  _warn_prf(average, modifier, f\"{metric.capitalize()} is\", len(result))\n",
      "C:\\Users\\HP\\anaconda3\\Lib\\site-packages\\sklearn\\metrics\\_classification.py:1531: UndefinedMetricWarning: Precision is ill-defined and being set to 0.0 in labels with no predicted samples. Use `zero_division` parameter to control this behavior.\n",
      "  _warn_prf(average, modifier, f\"{metric.capitalize()} is\", len(result))\n",
      "C:\\Users\\HP\\anaconda3\\Lib\\site-packages\\sklearn\\metrics\\_classification.py:1531: UndefinedMetricWarning: Precision is ill-defined and being set to 0.0 in labels with no predicted samples. Use `zero_division` parameter to control this behavior.\n",
      "  _warn_prf(average, modifier, f\"{metric.capitalize()} is\", len(result))\n"
     ]
    }
   ],
   "source": [
    "import pandas as pd\n",
    "from sklearn.model_selection import train_test_split\n",
    "from sklearn.ensemble import RandomForestClassifier\n",
    "from sklearn.metrics import accuracy_score, classification_report\n",
    "# Define raw data\n",
    "raw_data = {\n",
    "    \"student_id\": [1, 2, 3, 4, 5, 6, 7, 8, 9, 10],\n",
    "    \"attendance\": [85, 90, 78, 92, 88, 76, 95, 89, 84, 91],\n",
    "    \"study_hours\": [15, 20, 10, 25, 18, 8, 30, 16, 14, 22],\n",
    "    \"previous_grades\": [80, 85, 75, 95, 90, 70, 98, 88, 82, 92],\n",
    "    \"participation\": [7, 8, 6, 9, 8, 5, 10, 7, 6, 8],\n",
    "    \"performance\": [1, 1, 0, 1, 1, 0, 1, 1, 0, 1],  # 1 = Pass, 0 = Fail\n",
    "}\n",
    "# Convert raw data to DataFrame\n",
    "data = pd.DataFrame(raw_data)\n",
    "# Features (independent variables)\n",
    "X = data[[\"attendance\", \"study_hours\", \"previous_grades\", \"participation\"]]\n",
    "# Target variable (dependent variable)\n",
    "y = data[\"performance\"]\n",
    "# Split the dataset into training and testing sets\n",
    "X_train, X_test, y_train, y_test = train_test_split(X, y, test_size=0.2, random_state=42)\n",
    "# Initialize the model\n",
    "model = RandomForestClassifier(random_state=42)\n",
    "# Train the model\n",
    "model.fit(X_train, y_train)\n",
    "# Make predictions\n",
    "y_pred = model.predict(X_test)\n",
    "# Evaluate the model\n",
    "accuracy = accuracy_score(y_test, y_pred)\n",
    "classification_rep = classification_report(y_test, y_pred)\n",
    "# Display results\n",
    "print(\"Accuracy:\", accuracy)\n",
    "print(\"\\nClassification Report:\\n\", classification_rep)\n",
    "# Predict performance for a new student\n",
    "new_student = {\n",
    "    \"attendance\": [88],\n",
    "    \"study_hours\": [12],\n",
    "    \"previous_grades\": [85],\n",
    "    \"participation\": [8],\n",
    "}\n",
    "new_student_df = pd.DataFrame(new_student)\n",
    "predicted_performance = model.predict(new_student_df)\n",
    "print(\"\\nPredicted Performance for New Student:\", \"Pass\" if predicted_performance[0] == 1 else \"Fail\")"
   ]
  },
  {
   "cell_type": "code",
   "execution_count": null,
   "id": "26a96b32-d2de-4090-aebe-aaeca5b8f4cb",
   "metadata": {},
   "outputs": [],
   "source": []
  }
 ],
 "metadata": {
  "kernelspec": {
   "display_name": "Python 3 (ipykernel)",
   "language": "python",
   "name": "python3"
  },
  "language_info": {
   "codemirror_mode": {
    "name": "ipython",
    "version": 3
   },
   "file_extension": ".py",
   "mimetype": "text/x-python",
   "name": "python",
   "nbconvert_exporter": "python",
   "pygments_lexer": "ipython3",
   "version": "3.12.7"
  }
 },
 "nbformat": 4,
 "nbformat_minor": 5
}
