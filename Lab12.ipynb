{
 "cells": [
  {
   "cell_type": "code",
   "execution_count": 3,
   "id": "7ded48db-8352-4fb9-9f11-73cc1a151476",
   "metadata": {},
   "outputs": [
    {
     "name": "stdin",
     "output_type": "stream",
     "text": [
      "Choose your symbol (X or O):  X\n"
     ]
    },
    {
     "name": "stdout",
     "output_type": "stream",
     "text": [
      "_ | _ | _\n",
      "_ | _ | _\n",
      "_ | _ | _\n",
      "\n",
      "\n",
      "Your Turn\n"
     ]
    },
    {
     "name": "stdin",
     "output_type": "stream",
     "text": [
      "Enter row and column (1-3, space-separated):  1 1\n"
     ]
    },
    {
     "name": "stdout",
     "output_type": "stream",
     "text": [
      "X | _ | _\n",
      "_ | _ | _\n",
      "_ | _ | _\n",
      "\n",
      "\n",
      "Opponent's Turn\n",
      "X | O | _\n",
      "_ | _ | _\n",
      "_ | _ | _\n",
      "\n",
      "\n",
      "Your Turn\n"
     ]
    },
    {
     "name": "stdin",
     "output_type": "stream",
     "text": [
      "Enter row and column (1-3, space-separated):  2 2\n"
     ]
    },
    {
     "name": "stdout",
     "output_type": "stream",
     "text": [
      "X | O | _\n",
      "_ | X | _\n",
      "_ | _ | _\n",
      "\n",
      "\n",
      "Opponent's Turn\n",
      "X | O | _\n",
      "_ | X | _\n",
      "_ | _ | O\n",
      "\n",
      "\n",
      "Your Turn\n"
     ]
    },
    {
     "name": "stdin",
     "output_type": "stream",
     "text": [
      "Enter row and column (1-3, space-separated):  3 1\n"
     ]
    },
    {
     "name": "stdout",
     "output_type": "stream",
     "text": [
      "X | O | _\n",
      "_ | X | _\n",
      "X | _ | O\n",
      "\n",
      "\n",
      "Opponent's Turn\n",
      "X | O | O\n",
      "_ | X | _\n",
      "X | _ | O\n",
      "\n",
      "\n",
      "Your Turn\n"
     ]
    },
    {
     "name": "stdin",
     "output_type": "stream",
     "text": [
      "Enter row and column (1-3, space-separated):  2 1\n"
     ]
    },
    {
     "name": "stdout",
     "output_type": "stream",
     "text": [
      "X | O | O\n",
      "X | X | _\n",
      "X | _ | O\n",
      "\n",
      "\n",
      "You win!\n"
     ]
    }
   ],
   "source": [
    "import math\n",
    "PLAYER_X = 'X'\n",
    "PLAYER_O = 'O'\n",
    "EMPTY = '_'\n",
    "def is_moves_left(board):\n",
    "    for row in board:\n",
    "        if EMPTY in row:\n",
    "            return True\n",
    "    return False\n",
    "def evaluate(board):\n",
    "    for row in board:\n",
    "        if row[0] == row[1] == row[2] and row[0] != EMPTY:\n",
    "            return 10 if row[0] == PLAYER_X else -10\n",
    "    for col in range(3):\n",
    "        if board[0][col] == board[1][col] == board[2][col] and board[0][col] != EMPTY:\n",
    "            return 10 if board[0][col] == PLAYER_X else -10\n",
    "    if board[0][0] == board[1][1] == board[2][2] and board[0][0] != EMPTY:\n",
    "        return 10 if board[0][0] == PLAYER_X else -10\n",
    "    if board[0][2] == board[1][1] == board[2][0] and board[0][2] != EMPTY:\n",
    "        return 10 if board[0][2] == PLAYER_X else -10\n",
    "    return 0\n",
    "def minimax(board, depth, is_maximizing_player):\n",
    "    score = evaluate(board)\n",
    "    if score == 10:\n",
    "        return score - depth\n",
    "    if score == -10:\n",
    "        return score + depth\n",
    "    if not is_moves_left(board):\n",
    "        return 0\n",
    "    if is_maximizing_player:\n",
    "        best_val = -math.inf\n",
    "        for i in range(3):\n",
    "            for j in range(3):\n",
    "                if board[i][j] == EMPTY:\n",
    "                    board[i][j] = PLAYER_X\n",
    "                    value = minimax(board, depth + 1, False)\n",
    "                    best_val = max(best_val, value)\n",
    "                    board[i][j] = EMPTY\n",
    "        return best_val\n",
    "    else:\n",
    "        best_val = math.inf\n",
    "        for i in range(3):\n",
    "            for j in range(3):\n",
    "                if board[i][j] == EMPTY:\n",
    "                    board[i][j] = PLAYER_O\n",
    "                    value = minimax(board, depth + 1, True)\n",
    "                    best_val = min(best_val, value)\n",
    "                    board[i][j] = EMPTY\n",
    "        return best_val\n",
    "def find_best_move(board):\n",
    "    best_val = -math.inf\n",
    "    best_move = (-1, -1)\n",
    "    for i in range(3):\n",
    "        for j in range(3):\n",
    "            if board[i][j] == EMPTY:\n",
    "                board[i][j] = PLAYER_X\n",
    "                move_val = minimax(board, 0, False)\n",
    "                board[i][j] = EMPTY\n",
    "                if move_val > best_val:\n",
    "                    best_val = move_val\n",
    "                    best_move = (i, j)\n",
    "    return best_move\n",
    "def print_board(board):\n",
    "    for row in board:\n",
    "        print(' | '.join(row))\n",
    "    print(\"\\n\")\n",
    "def check_winner(board):\n",
    "    score = evaluate(board)\n",
    "    if score == 10:\n",
    "        return PLAYER_X\n",
    "    elif score == -10:\n",
    "        return PLAYER_O\n",
    "    return None\n",
    "def play_game():\n",
    "    board = [\n",
    "        [EMPTY, EMPTY, EMPTY],\n",
    "        [EMPTY, EMPTY, EMPTY],\n",
    "        [EMPTY, EMPTY, EMPTY]\n",
    "    ]\n",
    "    player = input(\"Choose your symbol (X or O): \").upper()\n",
    "    if player not in [PLAYER_X, PLAYER_O]:\n",
    "        print(\"Invalid choice. Defaulting to X.\")\n",
    "        player = PLAYER_X\n",
    "    opponent = PLAYER_O if player == PLAYER_X else PLAYER_X\n",
    "    turn = player  # Player gets the first move\n",
    "    while is_moves_left(board):\n",
    "        print_board(board)\n",
    "        if turn == player:\n",
    "            print(\"Your Turn\")\n",
    "            row, col = map(int, input(\"Enter row and column (1-3, space-separated): \").split())\n",
    "            row, col = row - 1, col - 1\n",
    "            if board[row][col] == EMPTY:\n",
    "                board[row][col] = player\n",
    "            else:\n",
    "                print(\"Invalid move. Try again.\")\n",
    "                continue\n",
    "        else:\n",
    "            print(\"Opponent's Turn\")\n",
    "            best_move = find_best_move(board)\n",
    "            board[best_move[0]][best_move[1]] = opponent\n",
    "        winner = check_winner(board)\n",
    "        if winner:\n",
    "            print_board(board)\n",
    "            if winner == player:\n",
    "                print(\"You win!\")\n",
    "            else:\n",
    "                print(\"You lose!\")\n",
    "            return\n",
    "        turn = PLAYER_O if turn == PLAYER_X else PLAYER_X\n",
    "    print_board(board)\n",
    "    print(\"It's a draw!\")\n",
    "if __name__ == \"__main__\":\n",
    "    play_game()"
   ]
  },
  {
   "cell_type": "code",
   "execution_count": null,
   "id": "89d20569-02a8-49dd-932e-f742bd65c3b9",
   "metadata": {},
   "outputs": [],
   "source": []
  }
 ],
 "metadata": {
  "kernelspec": {
   "display_name": "Python 3 (ipykernel)",
   "language": "python",
   "name": "python3"
  },
  "language_info": {
   "codemirror_mode": {
    "name": "ipython",
    "version": 3
   },
   "file_extension": ".py",
   "mimetype": "text/x-python",
   "name": "python",
   "nbconvert_exporter": "python",
   "pygments_lexer": "ipython3",
   "version": "3.12.7"
  }
 },
 "nbformat": 4,
 "nbformat_minor": 5
}
