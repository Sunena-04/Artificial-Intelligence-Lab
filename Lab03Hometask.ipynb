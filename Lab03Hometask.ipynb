{
 "cells": [
  {
   "cell_type": "code",
   "execution_count": 9,
   "id": "8a5c8e6f-9296-4335-a87e-bd62570be374",
   "metadata": {},
   "outputs": [
    {
     "name": "stdout",
     "output_type": "stream",
     "text": [
      "Prediction: ['no' 'yes' 'yes']\n",
      "Confusion Matrix:\n",
      "[[0 1]\n",
      " [1 1]]\n",
      "Accuracy: 0.3333333333333333\n"
     ]
    }
   ],
   "source": [
    "from sklearn import preprocessing\n",
    "from sklearn.neighbors import KNeighborsClassifier\n",
    "from sklearn.metrics import confusion_matrix, accuracy_score\n",
    "from sklearn.model_selection import train_test_split\n",
    "# Define the dataset\n",
    "fruit = ['Apple', 'Lemon', 'Cherry', 'Avocado', 'Berry', 'Olive', 'Banana', 'Grapefruit', 'Tomato', 'Lime', 'Blueberry', 'Blackberry', 'Poisonberry']\n",
    "color = ['Red', 'Yellow', 'Red', 'Green', 'Purple', 'Green', 'Yellow', 'Pink', 'Red', 'Green', 'Blue', 'Black', 'Purple']\n",
    "weight = [150, 120, 10, 200, 5, 5, 110, 250, 100, 60, 1, 3, 3]\n",
    "edible = ['yes', 'no', 'yes', 'no', 'yes', 'no', 'no', 'yes', 'yes', 'no', 'no','yes', 'no']  # Target variable\n",
    "# Encode categorical features\n",
    "le_fruit = preprocessing.LabelEncoder()\n",
    "le_color = preprocessing.LabelEncoder()\n",
    "le_edible = preprocessing.LabelEncoder()\n",
    "fruit_encoded = le_fruit.fit_transform(fruit)\n",
    "color_encoded = le_color.fit_transform(color)\n",
    "edible_encoded = le_edible.fit_transform(edible)\n",
    "# Combine features into a list of tuples\n",
    "features = list(zip(fruit_encoded, color_encoded, weight))\n",
    "# Split the data into training and testing sets\n",
    "features_train, features_test, label_train, label_test = train_test_split(features, edible_encoded, test_size=0.2, random_state=62)\n",
    "# Create and train the KNN model\n",
    "model = KNeighborsClassifier(n_neighbors=3, metric='euclidean')\n",
    "model.fit(features_train, label_train)\n",
    "# Predict on the test set\n",
    "predicted = model.predict(features_test)\n",
    "predicted_labels = le_edible.inverse_transform(predicted)\n",
    "# Output the predictions, confusion matrix, and accuracy\n",
    "print(\"Prediction:\", predicted_labels)\n",
    "conf_mat = confusion_matrix(label_test, predicted)\n",
    "print(\"Confusion Matrix:\")\n",
    "print(conf_mat)\n",
    "accuracy = accuracy_score(label_test, predicted)\n",
    "print(\"Accuracy:\", accuracy)"
   ]
  },
  {
   "cell_type": "code",
   "execution_count": 11,
   "id": "fe996690-8abc-415b-9737-594aee354e0d",
   "metadata": {},
   "outputs": [
    {
     "name": "stdout",
     "output_type": "stream",
     "text": [
      "Prediction: ['no' 'yes' 'yes']\n",
      "Confusion Matrix:\n",
      "[[0 1]\n",
      " [1 1]]\n",
      "Accuracy: 0.3333333333333333\n",
      "Predicted edibility for Yellow color and weight 90: ['no']\n"
     ]
    }
   ],
   "source": [
    "from sklearn import preprocessing\n",
    "from sklearn.neighbors import KNeighborsClassifier\n",
    "from sklearn.metrics import confusion_matrix, accuracy_score\n",
    "from sklearn.model_selection import train_test_split\n",
    "# Define the dataset\n",
    "fruit = ['Apple', 'Lemon', 'Cherry', 'Avocado', 'Berry', 'Olive', 'Banana', 'Grapefruit', 'Tomato', 'Lime', 'Blueberry', 'Blackberry', 'Poisonberry']\n",
    "color = ['Red', 'Yellow', 'Red', 'Green', 'Purple', 'Green', 'Yellow', 'Pink', 'Red', 'Green', 'Blue', 'Black', 'Purple']\n",
    "weight = [150, 120, 10, 200, 5, 5, 110, 250, 100, 60, 1, 3, 3]\n",
    "edible = ['yes', 'no', 'yes', 'no', 'yes', 'no', 'no', 'yes', 'yes', 'no', 'no', 'yes', 'no']  # Target variable\n",
    "# Encode categorical features\n",
    "le_fruit = preprocessing.LabelEncoder()\n",
    "le_color = preprocessing.LabelEncoder()\n",
    "le_edible = preprocessing.LabelEncoder()\n",
    "fruit_encoded = le_fruit.fit_transform(fruit)\n",
    "color_encoded = le_color.fit_transform(color)\n",
    "edible_encoded = le_edible.fit_transform(edible)\n",
    "# Combine features into a list of tuples\n",
    "features = list(zip(fruit_encoded, color_encoded, weight))\n",
    "# Split the data into training and testing sets\n",
    "features_train, features_test, label_train, label_test = train_test_split(features, edible_encoded, test_size=0.2, random_state=62)\n",
    "# Create and train the KNN model\n",
    "model = KNeighborsClassifier(n_neighbors=3, metric='euclidean')\n",
    "model.fit(features_train, label_train)\n",
    "# Predict on the test set\n",
    "predicted = model.predict(features_test)\n",
    "predicted_labels = le_edible.inverse_transform(predicted)\n",
    "# Output the predictions, confusion matrix, and accuracy\n",
    "print(\"Prediction:\", predicted_labels)\n",
    "conf_mat = confusion_matrix(label_test, predicted)\n",
    "print(\"Confusion Matrix:\")\n",
    "print(conf_mat)\n",
    "accuracy = accuracy_score(label_test, predicted)\n",
    "print(\"Accuracy:\", accuracy)\n",
    "# Predict for the specific case: Yellow color and weight 90\n",
    "new_feature = [[-1, le_color.transform(['Yellow'])[0], 90]]  # Using -1 for fruit since we don't need to classify it\n",
    "predicted_edibility = model.predict(new_feature)\n",
    "predicted_edibility_label = le_edible.inverse_transform(predicted_edibility)\n",
    "\n",
    "print(\"Predicted edibility for Yellow color and weight 90:\", predicted_edibility_label)\n"
   ]
  },
  {
   "cell_type": "code",
   "execution_count": null,
   "id": "a2607541-b38f-48d9-93c6-46de544d36a7",
   "metadata": {},
   "outputs": [],
   "source": []
  }
 ],
 "metadata": {
  "kernelspec": {
   "display_name": "Python 3 (ipykernel)",
   "language": "python",
   "name": "python3"
  },
  "language_info": {
   "codemirror_mode": {
    "name": "ipython",
    "version": 3
   },
   "file_extension": ".py",
   "mimetype": "text/x-python",
   "name": "python",
   "nbconvert_exporter": "python",
   "pygments_lexer": "ipython3",
   "version": "3.12.7"
  }
 },
 "nbformat": 4,
 "nbformat_minor": 5
}
