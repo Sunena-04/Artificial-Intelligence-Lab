{
 "cells": [
  {
   "cell_type": "code",
   "execution_count": 1,
   "id": "a07cf9b6-69f2-4a51-8c71-769086145c4d",
   "metadata": {},
   "outputs": [
    {
     "name": "stdout",
     "output_type": "stream",
     "text": [
      "Collecting scikit-surprise\n",
      "  Downloading scikit_surprise-1.1.4.tar.gz (154 kB)\n",
      "  Installing build dependencies: started\n",
      "  Installing build dependencies: finished with status 'done'\n",
      "  Getting requirements to build wheel: started\n",
      "  Getting requirements to build wheel: finished with status 'done'\n",
      "  Preparing metadata (pyproject.toml): started\n",
      "  Preparing metadata (pyproject.toml): finished with status 'done'\n",
      "Requirement already satisfied: joblib>=1.2.0 in c:\\users\\hp\\anaconda3\\lib\\site-packages (from scikit-surprise) (1.4.2)\n",
      "Requirement already satisfied: numpy>=1.19.5 in c:\\users\\hp\\anaconda3\\lib\\site-packages (from scikit-surprise) (1.26.0)\n",
      "Requirement already satisfied: scipy>=1.6.0 in c:\\users\\hp\\anaconda3\\lib\\site-packages (from scikit-surprise) (1.13.1)\n",
      "Building wheels for collected packages: scikit-surprise\n",
      "  Building wheel for scikit-surprise (pyproject.toml): started\n",
      "  Building wheel for scikit-surprise (pyproject.toml): finished with status 'done'\n",
      "  Created wheel for scikit-surprise: filename=scikit_surprise-1.1.4-cp312-cp312-win_amd64.whl size=1291191 sha256=dc025f026b0e226a984995fe84ac794887f976304eedb96979076e118794cf0e\n",
      "  Stored in directory: c:\\users\\hp\\appdata\\local\\pip\\cache\\wheels\\75\\fa\\bc\\739bc2cb1fbaab6061854e6cfbb81a0ae52c92a502a7fa454b\n",
      "Successfully built scikit-surprise\n",
      "Installing collected packages: scikit-surprise\n",
      "Successfully installed scikit-surprise-1.1.4\n",
      "Note: you may need to restart the kernel to use updated packages.\n"
     ]
    },
    {
     "name": "stderr",
     "output_type": "stream",
     "text": [
      "WARNING: Ignoring invalid distribution ~atplotlib (C:\\Users\\HP\\anaconda3\\Lib\\site-packages)\n",
      "WARNING: Ignoring invalid distribution ~atplotlib (C:\\Users\\HP\\anaconda3\\Lib\\site-packages)\n"
     ]
    }
   ],
   "source": [
    "pip install scikit-surprise"
   ]
  },
  {
   "cell_type": "code",
   "execution_count": 17,
   "id": "4b9f29e3-9b77-4aad-8739-bcfca593197d",
   "metadata": {},
   "outputs": [
    {
     "name": "stdout",
     "output_type": "stream",
     "text": [
      "Computing the cosine similarity matrix...\n",
      "Done computing similarity matrix.\n",
      "Rated items for user 'A': {1, 2}\n",
      "Unrated items for user 'A': set()\n",
      "User 'A' has rated all available movies.\n",
      "No recommendations available.\n"
     ]
    }
   ],
   "source": [
    "import pandas as pd\n",
    "from surprise import Dataset, Reader\n",
    "from surprise import KNNWithMeans\n",
    "# Step 1: Prepare the dataset\n",
    "ratings_dict = { \n",
    "    \"item\": [1, 2, 1, 2, 1, 2, 1, 2, 1], \n",
    "    \"user\": ['A', 'A', 'B', 'B', 'C', 'C', 'D', 'D', 'E'], \n",
    "    \"rating\": [1, 2, 2, 4, 2.5, 4, 4.5, 5, 3], \n",
    "}\n",
    "# Convert the dictionary to a DataFrame\n",
    "df = pd.DataFrame(ratings_dict)\n",
    "# Use the Reader class to define the rating scale\n",
    "reader = Reader(rating_scale=(1, 5))\n",
    "# Load the data into the Surprise library format\n",
    "data = Dataset.load_from_df(df[[\"user\", \"item\", \"rating\"]], reader)\n",
    "# Step 2: Implement Item-Based Collaborative Filtering\n",
    "# Define the similarity options for KNN\n",
    "sim_options = {\n",
    "    \"name\": \"cosine\",  # Use cosine similarity\n",
    "    \"user_based\": False,  # Item-based filtering (user_based=False)\n",
    "}\n",
    "# Initialize the KNNWithMeans algorithm\n",
    "algo = KNNWithMeans(sim_options=sim_options)\n",
    "# Build the training set and fit the model\n",
    "trainingSet = data.build_full_trainset()\n",
    "algo.fit(trainingSet)\n",
    "# Step 3: Predict Ratings and Recommend Movies\n",
    "# Function to recommend top N movies for a user\n",
    "def recommend_movies(user_id, n_recommendations=3):\n",
    "    # Get a list of all items (movies)\n",
    "    all_items = set(df['item'])\n",
    "    # Get the movies the user has already rated\n",
    "    rated_items = set(df[df['user'] == user_id]['item'])\n",
    "    # Print out the rated items for the user (debugging)\n",
    "    print(f\"Rated items for user '{user_id}': {rated_items}\")\n",
    "    # Find the unrated items\n",
    "    unrated_items = all_items - rated_items\n",
    "    print(f\"Unrated items for user '{user_id}': {unrated_items}\")\n",
    "    # If there are no unrated items, return a message\n",
    "    if not unrated_items:\n",
    "        print(f\"User '{user_id}' has rated all available movies.\")\n",
    "        return []\n",
    "    # Predict ratings for all movies that the user hasn't rated\n",
    "    predictions = []\n",
    "    for item in unrated_items:\n",
    "        prediction = algo.predict(user_id, item)\n",
    "        print(f\"Predicted rating for movie {item}: {prediction.est}\")  # Debugging\n",
    "        predictions.append((item, prediction.est))\n",
    "    # Sort the predictions by the estimated rating in descending order\n",
    "    predictions.sort(key=lambda x: x[1], reverse=True)\n",
    "    # Return the top N recommendations\n",
    "    return predictions[:n_recommendations]\n",
    "# Example: Recommend top 3 movies for user 'A'\n",
    "recommendations = recommend_movies('A', n_recommendations=3)\n",
    "if recommendations:\n",
    "    print(\"Top 3 recommended movies for user 'A':\")\n",
    "    for movie, rating in recommendations:\n",
    "        print(f\"Movie {movie} with predicted rating {rating:.2f}\")\n",
    "else:\n",
    "    print(\"No recommendations available.\")"
   ]
  },
  {
   "cell_type": "code",
   "execution_count": null,
   "id": "924d9ea1-4ced-461b-8b44-52b30817c956",
   "metadata": {},
   "outputs": [],
   "source": []
  }
 ],
 "metadata": {
  "kernelspec": {
   "display_name": "Python 3 (ipykernel)",
   "language": "python",
   "name": "python3"
  },
  "language_info": {
   "codemirror_mode": {
    "name": "ipython",
    "version": 3
   },
   "file_extension": ".py",
   "mimetype": "text/x-python",
   "name": "python",
   "nbconvert_exporter": "python",
   "pygments_lexer": "ipython3",
   "version": "3.12.7"
  }
 },
 "nbformat": 4,
 "nbformat_minor": 5
}
