{
 "cells": [
  {
   "cell_type": "code",
   "execution_count": 13,
   "id": "ee4ff8ce-f009-41b7-988b-f1997b1ca9f9",
   "metadata": {},
   "outputs": [
    {
     "name": "stdout",
     "output_type": "stream",
     "text": [
      "Computing the cosine similarity matrix...\n",
      "Done computing similarity matrix.\n",
      "Rated restaurants for user 'D': {3}\n",
      "Unrated restaurants for user 'D': {1, 2, 4, 5}\n",
      "Predicted rating for restaurant 1: 3.4166666666666665\n",
      "Predicted rating for restaurant 2: 3.0833333333333335\n",
      "Predicted rating for restaurant 4: 2.4166666666666665\n",
      "Predicted rating for restaurant 5: 1.75\n",
      "\n",
      "Top 3 recommended restaurants for user 'D':\n",
      "Restaurant 1 with predicted rating 3.42\n",
      "Restaurant 2 with predicted rating 3.08\n",
      "Restaurant 4 with predicted rating 2.42\n"
     ]
    }
   ],
   "source": [
    "import pandas as pd\n",
    "from surprise import Dataset, Reader\n",
    "from surprise import KNNWithMeans\n",
    "# Step 1: Prepare the restaurant dataset\n",
    "ratings_dict = { \n",
    "    \"item\": [1, 2, 3, 4, 5, 1, 2, 3, 4, 5, 1, 2, 3, 4, 5, 3],  # Restaurants\n",
    "    \"user\": ['A', 'A', 'A', 'A', 'A', 'B', 'B', 'B', 'B', 'B', 'C', 'C', 'C', 'C', 'C', 'D'], \n",
    "    \"rating\": [5, 4, 3, 2, 1, 4, 3, 5, 2, 3, 2, 3, 5, 4, 2, 4],  # Ratings for restaurants\n",
    "}\n",
    "# Convert the dictionary to a DataFrame\n",
    "df = pd.DataFrame(ratings_dict)\n",
    "# Use the Reader class to define the rating scale\n",
    "reader = Reader(rating_scale=(1, 5))\n",
    "# Load the data into the Surprise library format\n",
    "data = Dataset.load_from_df(df[[\"user\", \"item\", \"rating\"]], reader)\n",
    "# Step 2: Implement Item-Based Collaborative Filtering\n",
    "# Define the similarity options for KNN\n",
    "sim_options = {\n",
    "    \"name\": \"cosine\",  # Use cosine similarity\n",
    "    \"user_based\": False,  # Item-based filtering (user_based=False)\n",
    "}\n",
    "# Initialize the KNNWithMeans algorithm\n",
    "algo = KNNWithMeans(sim_options=sim_options)\n",
    "# Build the training set and fit the model\n",
    "trainingSet = data.build_full_trainset()\n",
    "algo.fit(trainingSet)\n",
    "# Step 3: Predict Ratings and Recommend Restaurants\n",
    "# Function to recommend top N restaurants for a user\n",
    "def recommend_restaurants(user_id, n_recommendations=3):\n",
    "    # Get a list of all items (restaurants)\n",
    "    all_items = set(df['item'])\n",
    "    # Get the restaurants the user has already rated\n",
    "    rated_items = set(df[df['user'] == user_id]['item'])\n",
    "    # Print out the rated items for the user (debugging)\n",
    "    print(f\"Rated restaurants for user '{user_id}': {rated_items}\")\n",
    "    # Find the unrated restaurants\n",
    "    unrated_items = all_items - rated_items\n",
    "    print(f\"Unrated restaurants for user '{user_id}': {unrated_items}\")\n",
    "    # If there are no unrated restaurants, return a message\n",
    "    if not unrated_items:\n",
    "        print(f\"User '{user_id}' has rated all available restaurants.\")\n",
    "        return []\n",
    "    # Predict ratings for all restaurants that the user hasn't rated\n",
    "    predictions = []\n",
    "    for item in unrated_items:\n",
    "        prediction = algo.predict(user_id, item)\n",
    "        print(f\"Predicted rating for restaurant {item}: {prediction.est}\")  # Debugging\n",
    "        predictions.append((item, prediction.est))\n",
    "    # Sort the predictions by the estimated rating in descending order\n",
    "    predictions.sort(key=lambda x: x[1], reverse=True)\n",
    "    # Return the top N recommendations\n",
    "    return predictions[:n_recommendations]\n",
    "# Example: Recommend top 3 restaurants for user 'B'\n",
    "recommendations = recommend_restaurants('D', n_recommendations=3)\n",
    "if recommendations:\n",
    "    print(\"\\nTop 3 recommended restaurants for user 'D':\")\n",
    "    for restaurant, rating in recommendations:\n",
    "        print(f\"Restaurant {restaurant} with predicted rating {rating:.2f}\")\n",
    "else:\n",
    "    print(\"No recommendations available.\")"
   ]
  },
  {
   "cell_type": "code",
   "execution_count": null,
   "id": "eb15b178-d07d-4486-b3b4-2e48f458dc92",
   "metadata": {},
   "outputs": [],
   "source": []
  }
 ],
 "metadata": {
  "kernelspec": {
   "display_name": "Python 3 (ipykernel)",
   "language": "python",
   "name": "python3"
  },
  "language_info": {
   "codemirror_mode": {
    "name": "ipython",
    "version": 3
   },
   "file_extension": ".py",
   "mimetype": "text/x-python",
   "name": "python",
   "nbconvert_exporter": "python",
   "pygments_lexer": "ipython3",
   "version": "3.12.7"
  }
 },
 "nbformat": 4,
 "nbformat_minor": 5
}
