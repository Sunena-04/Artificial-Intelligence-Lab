{
 "cells": [
  {
   "cell_type": "code",
   "execution_count": 3,
   "id": "4872fbb8-5345-4f11-8e75-97b57427e6f6",
   "metadata": {},
   "outputs": [
    {
     "name": "stdout",
     "output_type": "stream",
     "text": [
      "Predictions on test set: [0 1 0]\n",
      "Confusion Matrix:\n",
      "[[1 0]\n",
      " [1 1]]\n",
      "Accuracy: 0.6666666666666666\n",
      "Prediction for 'Overcast' and 'Mild': Yes\n"
     ]
    }
   ],
   "source": [
    "# Import libraries\n",
    "from sklearn import preprocessing\n",
    "from sklearn.naive_bayes import GaussianNB\n",
    "from sklearn.model_selection import train_test_split\n",
    "from sklearn.metrics import confusion_matrix, accuracy_score\n",
    "import numpy as np\n",
    "# Define the dataset\n",
    "weather = ['Sunny', 'Sunny', 'Overcast', 'Rainy', 'Rainy', 'Rainy', 'Overcast', 'Sunny', 'Sunny', 'Rainy', \n",
    "           'Sunny', 'Overcast', 'Overcast', 'Rainy']\n",
    "temperature = ['Hot', 'Hot', 'Hot', 'Mild', 'Cool', 'Cool', 'Cool', 'Mild', 'Cool', 'Mild', 'Mild', 'Mild', 'Hot', 'Mild']\n",
    "play = ['No', 'No', 'Yes', 'Yes', 'No', 'Yes', 'Yes', 'No', 'Yes', 'Yes', 'Yes', 'Yes', 'Yes', 'No']\n",
    "# Create separate encoders for each feature\n",
    "weather_encoder = preprocessing.LabelEncoder()\n",
    "temperature_encoder = preprocessing.LabelEncoder()\n",
    "play_encoder = preprocessing.LabelEncoder()\n",
    "# Encode each feature independently\n",
    "weather_encoded = weather_encoder.fit_transform(weather)\n",
    "temperature_encoded = temperature_encoder.fit_transform(temperature)\n",
    "play_encoded = play_encoder.fit_transform(play)\n",
    "# Combine the features into a single list of tuples\n",
    "features = list(zip(weather_encoded, temperature_encoded))\n",
    "# Split the dataset into training and testing sets\n",
    "features_train, features_test, label_train, label_test = train_test_split(features, play_encoded, test_size=0.2, random_state=42)\n",
    "# Initialize and train the Gaussian Naive Bayes classifier\n",
    "model = GaussianNB()\n",
    "model.fit(features_train, label_train)\n",
    "# Predict on the test data\n",
    "predicted = model.predict(features_test)\n",
    "print(\"Predictions on test set:\", predicted)\n",
    "# Confusion Matrix\n",
    "conf_mat = confusion_matrix(label_test, predicted)\n",
    "print(\"Confusion Matrix:\")\n",
    "print(conf_mat)\n",
    "# Calculate Accuracy\n",
    "accuracy = accuracy_score(label_test, predicted)\n",
    "print(\"Accuracy:\", accuracy)\n",
    "# Step 7: Predict for Specific Case (Overcast, Mild)\n",
    "# Encode 'Overcast' and 'Mild' using the respective encoders\n",
    "weather_overcast_encoded = weather_encoder.transform(['Overcast'])[0]\n",
    "temperature_mild_encoded = temperature_encoder.transform(['Mild'])[0]\n",
    "# Predict using the model\n",
    "predicted_play = model.predict([[weather_overcast_encoded, temperature_mild_encoded]])\n",
    "play_outcome = \"Yes\" if predicted_play[0] == play_encoder.transform(['Yes'])[0] else \"No\"\n",
    "print(\"Prediction for 'Overcast' and 'Mild':\", play_outcome)\n"
   ]
  },
  {
   "cell_type": "code",
   "execution_count": null,
   "id": "82e355c3-2e8a-4fb8-87e8-56ee5a4ea386",
   "metadata": {},
   "outputs": [],
   "source": []
  }
 ],
 "metadata": {
  "kernelspec": {
   "display_name": "Python 3 (ipykernel)",
   "language": "python",
   "name": "python3"
  },
  "language_info": {
   "codemirror_mode": {
    "name": "ipython",
    "version": 3
   },
   "file_extension": ".py",
   "mimetype": "text/x-python",
   "name": "python",
   "nbconvert_exporter": "python",
   "pygments_lexer": "ipython3",
   "version": "3.11.7"
  }
 },
 "nbformat": 4,
 "nbformat_minor": 5
}
