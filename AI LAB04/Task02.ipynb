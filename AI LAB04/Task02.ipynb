{
 "cells": [
  {
   "cell_type": "code",
   "execution_count": 1,
   "id": "571f1266-37fa-4492-acd3-5750e78fb8e0",
   "metadata": {},
   "outputs": [
    {
     "name": "stdout",
     "output_type": "stream",
     "text": [
      "Predictions on test set: [1 1 1]\n",
      "Confusion Matrix:\n",
      "[[0 1]\n",
      " [0 2]]\n",
      "Accuracy: 0.6666666666666666\n",
      "Prediction for ('youth', 'medium', 'yes', 'fair'): yes\n"
     ]
    }
   ],
   "source": [
    "# Import libraries\n",
    "from sklearn import preprocessing\n",
    "from sklearn.naive_bayes import CategoricalNB\n",
    "from sklearn.model_selection import train_test_split\n",
    "from sklearn.metrics import confusion_matrix, accuracy_score\n",
    "# Define the dataset\n",
    "age = ['youth', 'youth', 'middle_aged', 'senior', 'senior', 'senior', 'middle_aged', 'youth', 'youth', 'senior',\n",
    "       'youth', 'middle_aged', 'middle_aged', 'senior']\n",
    "income = ['high', 'high', 'high', 'medium', 'low', 'low', 'low', 'medium', 'low', 'medium', 'medium', 'medium', 'high', 'medium']\n",
    "student = ['no', 'no', 'no', 'no', 'yes', 'yes', 'no', 'no', 'yes', 'yes', 'yes', 'yes', 'no', 'no']\n",
    "credit_rating = ['fair', 'excellent', 'fair', 'fair', 'fair', 'excellent', 'excellent', 'fair', 'fair', 'fair', \n",
    "                 'excellent', 'excellent', 'fair', 'excellent']\n",
    "buys_computer = ['no', 'no', 'yes', 'yes', 'yes', 'no', 'yes', 'no', 'yes', 'yes', 'yes', 'yes', 'yes', 'no']\n",
    "# Encode each feature independently\n",
    "age_encoder = preprocessing.LabelEncoder()\n",
    "income_encoder = preprocessing.LabelEncoder()\n",
    "student_encoder = preprocessing.LabelEncoder()\n",
    "credit_rating_encoder = preprocessing.LabelEncoder()\n",
    "buys_computer_encoder = preprocessing.LabelEncoder()\n",
    "age_encoded = age_encoder.fit_transform(age)\n",
    "income_encoded = income_encoder.fit_transform(income)\n",
    "student_encoded = student_encoder.fit_transform(student)\n",
    "credit_rating_encoded = credit_rating_encoder.fit_transform(credit_rating)\n",
    "buys_computer_encoded = buys_computer_encoder.fit_transform(buys_computer)\n",
    "# Combine the features into a single list of tuples\n",
    "features = list(zip(age_encoded, income_encoded, student_encoded, credit_rating_encoded))\n",
    "# Split the dataset into training and testing sets\n",
    "features_train,features_test,label_train,label_test=train_test_split(features,buys_computer_encoded,test_size=0.2,random_state=42)\n",
    "# Initialize and train the Naive Bayes classifier (for categorical data)\n",
    "model = CategoricalNB()\n",
    "model.fit(features_train, label_train)\n",
    "# Predict on the test data\n",
    "predicted = model.predict(features_test)\n",
    "print(\"Predictions on test set:\", predicted)\n",
    "# Confusion Matrix\n",
    "conf_mat = confusion_matrix(label_test, predicted)\n",
    "print(\"Confusion Matrix:\")\n",
    "print(conf_mat)\n",
    "# Calculate Accuracy\n",
    "accuracy = accuracy_score(label_test, predicted)\n",
    "print(\"Accuracy:\", accuracy)\n",
    "# Prediction for Specific Case (youth, medium, yes, fair)\n",
    "# Encode 'youth', 'medium', 'yes', and 'fair' for prediction\n",
    "age_youth_encoded = age_encoder.transform(['youth'])[0]\n",
    "income_medium_encoded = income_encoder.transform(['medium'])[0]\n",
    "student_yes_encoded = student_encoder.transform(['yes'])[0]\n",
    "credit_rating_fair_encoded = credit_rating_encoder.transform(['fair'])[0]\n",
    "# Predict using the model\n",
    "predicted_buy = model.predict([[age_youth_encoded, income_medium_encoded, student_yes_encoded, credit_rating_fair_encoded]])\n",
    "buy_outcome = \"yes\" if predicted_buy[0] == buys_computer_encoder.transform(['yes'])[0] else \"no\"\n",
    "print(\"Prediction for ('youth', 'medium', 'yes', 'fair'):\", buy_outcome)\n"
   ]
  },
  {
   "cell_type": "code",
   "execution_count": null,
   "id": "c1b62198-f8c5-4a6a-bd3d-5292eeb7a36f",
   "metadata": {},
   "outputs": [],
   "source": []
  }
 ],
 "metadata": {
  "kernelspec": {
   "display_name": "Python 3 (ipykernel)",
   "language": "python",
   "name": "python3"
  },
  "language_info": {
   "codemirror_mode": {
    "name": "ipython",
    "version": 3
   },
   "file_extension": ".py",
   "mimetype": "text/x-python",
   "name": "python",
   "nbconvert_exporter": "python",
   "pygments_lexer": "ipython3",
   "version": "3.11.7"
  }
 },
 "nbformat": 4,
 "nbformat_minor": 5
}
