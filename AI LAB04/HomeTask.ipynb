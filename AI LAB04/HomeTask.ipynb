{
 "cells": [
  {
   "cell_type": "code",
   "execution_count": 15,
   "id": "80219563-e022-4d3e-b68c-fc3dcc8e7914",
   "metadata": {},
   "outputs": [
    {
     "name": "stdout",
     "output_type": "stream",
     "text": [
      "Accuracy: 1.0\n",
      "\n",
      "Confusion Matrix:\n",
      " [[1 0]\n",
      " [0 2]]\n",
      "Fruit: Apple, Prediction: Edible\n",
      "Fruit: Lime, Prediction: Not Edible\n",
      "Fruit: Cherry, Prediction: Edible\n"
     ]
    }
   ],
   "source": [
    "import pandas as pd\n",
    "from sklearn.naive_bayes import CategoricalNB\n",
    "from sklearn.preprocessing import LabelEncoder\n",
    "from sklearn.model_selection import train_test_split\n",
    "from sklearn.metrics import accuracy_score, confusion_matrix\n",
    "# Define the dataset\n",
    "data = {\n",
    "A\"Fruit\": [\"Apple\", \"Lemon\", \"Cherry\", \"Avocado\", \"Berry\", \"Olive\", \"Banana\", \"Grapefruit\", \"Tomato\", \"Lime\", \"Blueberry\", \"Blackberry\", \"Poisonberry\"],\n",
    "    \"Color\": [\"Red\", \"Yellow\", \"Red\", \"Green\", \"Purple\", \"Green\", \"Yellow\", \"Pink\", \"Red\", \"Green\", \"Blue\", \"Black\", \"Purple\"],\n",
    "    \"Weight\": [150, 120, 10, 200, 5, 5, 110, 250, 100, 60, 1, 3, 3],\n",
    "    \"Edible\": [\"Yes\", \"No\", \"Yes\", \"No\", \"Yes\", \"No\", \"No\", \"Yes\", \"Yes\", \"No\", \"No\", \"Yes\", \"No\"]\n",
    "}\n",
    "# Convert to DataFrame\n",
    "df = pd.DataFrame(data)\n",
    "# Encode categorical variables\n",
    "label_encoder = LabelEncoder()\n",
    "df[\"Color\"] = label_encoder.fit_transform(df[\"Color\"])\n",
    "df[\"Edible\"] = label_encoder.fit_transform(df[\"Edible\"])\n",
    "# Separate features and target\n",
    "X = df[[\"Color\", \"Weight\"]]\n",
    "y = df[\"Edible\"]\n",
    "# Split the data for training and testing\n",
    "X_train, X_test, y_train, y_test = train_test_split(X, y, test_size=0.2, random_state=32)\n",
    "# Train Naive Bayes classifier\n",
    "model = CategoricalNB()\n",
    "model.fit(X_train, y_train)\n",
    "# Make predictions\n",
    "y_pred = model.predict(X_test)\n",
    "# Evaluate the model\n",
    "accuracy = accuracy_score(y_test, y_pred)\n",
    "conf_matrix = confusion_matrix(y_test, y_pred)\n",
    "# Output results\n",
    "print(\"Accuracy:\", accuracy)\n",
    "print(\"\\nConfusion Matrix:\\n\", conf_matrix)\n",
    "# Display predictions\n",
    "predictions = [\"Edible\" if pred == 1 else \"Not Edible\" for pred in y_pred]\n",
    "for fruit, pred in zip(X_test.index, predictions):\n",
    "    print(f\"Fruit: {df.loc[fruit, 'Fruit']}, Prediction: {pred}\")\n"
   ]
  },
  {
   "cell_type": "code",
   "execution_count": null,
   "id": "3addc199-75d6-42ea-b113-ba5406086601",
   "metadata": {},
   "outputs": [],
   "source": []
  }
 ],
 "metadata": {
  "kernelspec": {
   "display_name": "Python 3 (ipykernel)",
   "language": "python",
   "name": "python3"
  },
  "language_info": {
   "codemirror_mode": {
    "name": "ipython",
    "version": 3
   },
   "file_extension": ".py",
   "mimetype": "text/x-python",
   "name": "python",
   "nbconvert_exporter": "python",
   "pygments_lexer": "ipython3",
   "version": "3.12.7"
  }
 },
 "nbformat": 4,
 "nbformat_minor": 5
}
