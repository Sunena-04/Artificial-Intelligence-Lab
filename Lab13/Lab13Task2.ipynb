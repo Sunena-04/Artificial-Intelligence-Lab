{
 "cells": [
  {
   "cell_type": "code",
   "execution_count": 1,
   "id": "3d072c5b-5c55-477c-b785-d058f445525f",
   "metadata": {},
   "outputs": [
    {
     "name": "stdout",
     "output_type": "stream",
     "text": [
      "Initial Population (S): [[0, 0, 1, 1, 1, 1, 1, 1, 1, 1], [0, 0, 1, 1, 1, 1, 1, 1, 1, 1], [0, 1, 1, 0, 1, 1, 0, 1, 1, 1], [0, 1, 0, 1, 1, 1, 0, 0, 1, 1], [0, 0, 1, 0, 1, 1, 1, 1, 1, 1], [0, 0, 1, 0, 1, 1, 0, 1, 1, 1]]\n",
      "Initial Fitness: [8, 8, 7, 6, 7, 6]\n",
      "Sorted chromosomes: [[0, 0, 1, 1, 1, 1, 1, 1, 1, 1], [0, 0, 1, 1, 1, 1, 1, 1, 1, 1], [0, 1, 1, 0, 1, 1, 0, 1, 1, 1], [0, 0, 1, 0, 1, 1, 1, 1, 1, 1], [0, 1, 0, 1, 1, 1, 0, 0, 1, 1], [0, 0, 1, 0, 1, 1, 0, 1, 1, 1]]\n",
      "Chromosomes after Crossover:\n",
      "S2: [0, 0, 1, 1, 1, 1, 0, 1, 1, 1]\n",
      "S3: [0, 1, 1, 0, 1, 1, 1, 1, 1, 1]\n",
      "Chromosomes after Mutation:\n",
      "[[1, 1, 1, 1, 1, 1, 1, 1, 1, 1], [1, 1, 1, 1, 1, 1, 0, 1, 1, 1], [1, 0, 1, 0, 1, 1, 1, 1, 1, 1], [1, 1, 1, 0, 1, 1, 1, 1, 1, 1], [1, 0, 0, 1, 1, 1, 0, 0, 1, 1], [1, 1, 1, 0, 1, 1, 0, 1, 1, 1]]\n",
      "Fitness after Mutation: [10, 9, 8, 9, 6, 8]\n",
      "Fitness is greater AFTER applying Genetic Algorithm\n"
     ]
    }
   ],
   "source": [
    "def calfitness(S):\n",
    "    fit = []\n",
    "    total = 0\n",
    "    for i in S:\n",
    "        fit.append(i.count(1))\n",
    "        total += i.count(1)\n",
    "    return fit\n",
    "\n",
    "S = [[0, 0, 1, 1, 1, 1, 1, 1, 1, 1], \n",
    "     [0, 0, 1, 1, 1, 1, 1, 1, 1, 1], \n",
    "     [0, 1, 1, 0, 1, 1, 0, 1, 1, 1], \n",
    "     [0, 1, 0, 1, 1, 1, 0, 0, 1, 1], \n",
    "     [0, 0, 1, 0, 1, 1, 1, 1, 1, 1], \n",
    "     [0, 0, 1, 0, 1, 1, 0, 1, 1, 1]]\n",
    "\n",
    "print(\"Initial Population (S):\", S)\n",
    "\n",
    "fit = calfitness(S)\n",
    "print(\"Initial Fitness:\", fit)\n",
    "\n",
    "desc = sorted(S, key=lambda x: x.count(1), reverse=True)\n",
    "print(\"Sorted chromosomes:\", desc)\n",
    "\n",
    "# Crossover between S2 and S3 after 4th point\n",
    "for i in range(4, 10):\n",
    "    desc[1][i], desc[2][i] = desc[2][i], desc[1][i]\n",
    "\n",
    "print(\"Chromosomes after Crossover:\")\n",
    "print(\"S2:\", desc[1])\n",
    "print(\"S3:\", desc[2])\n",
    "\n",
    "# Mutation\n",
    "for i in range(6):\n",
    "    for j in range(2):\n",
    "        if desc[i][j] == 0:\n",
    "            desc[i][j] = 1\n",
    "        else:\n",
    "            desc[i][j] = 0\n",
    "\n",
    "print(\"Chromosomes after Mutation:\")\n",
    "print(desc)\n",
    "\n",
    "fit2 = calfitness(desc)\n",
    "print(\"Fitness after Mutation:\", fit2)\n",
    "\n",
    "if sum(fit) < sum(fit2):\n",
    "    print(\"Fitness is greater AFTER applying Genetic Algorithm\")\n",
    "else:\n",
    "    print(\"Fitness is greater BEFORE applying Genetic Algorithm\")"
   ]
  },
  {
   "cell_type": "code",
   "execution_count": null,
   "id": "2a785bd6-7d5d-4051-a2eb-43405e9331cb",
   "metadata": {},
   "outputs": [],
   "source": []
  }
 ],
 "metadata": {
  "kernelspec": {
   "display_name": "Python 3 (ipykernel)",
   "language": "python",
   "name": "python3"
  },
  "language_info": {
   "codemirror_mode": {
    "name": "ipython",
    "version": 3
   },
   "file_extension": ".py",
   "mimetype": "text/x-python",
   "name": "python",
   "nbconvert_exporter": "python",
   "pygments_lexer": "ipython3",
   "version": "3.12.7"
  }
 },
 "nbformat": 4,
 "nbformat_minor": 5
}
