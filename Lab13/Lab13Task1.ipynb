{
 "cells": [
  {
   "cell_type": "code",
   "execution_count": 1,
   "id": "25dad22c-a599-4761-9c83-e2e4354795a4",
   "metadata": {},
   "outputs": [
    {
     "name": "stdout",
     "output_type": "stream",
     "text": [
      "Initial Population (S): [[0, 0, 1, 1, 1, 1, 1, 1, 1, 1], [0, 0, 1, 1, 1, 1, 1, 1, 1, 1], [0, 1, 1, 0, 1, 1, 0, 1, 1, 1], [0, 1, 0, 1, 1, 1, 0, 0, 1, 1], [0, 0, 1, 0, 1, 1, 1, 1, 1, 1], [0, 0, 1, 0, 1, 1, 0, 1, 1, 1]]\n",
      "Arranging chromosomes in Descending order\n",
      "Sorted chromosomes: [[0, 0, 1, 1, 1, 1, 1, 1, 1, 1], [0, 0, 1, 1, 1, 1, 1, 1, 1, 1], [0, 1, 1, 0, 1, 1, 0, 1, 1, 1], [0, 0, 1, 0, 1, 1, 1, 1, 1, 1], [0, 1, 0, 1, 1, 1, 0, 0, 1, 1], [0, 0, 1, 0, 1, 1, 0, 1, 1, 1]]\n",
      "Crossover after 3rd point between S1 and S4, S5 and S6:\n",
      "After crossover, chromosomes are:\n",
      "S1: [0, 0, 1, 1, 1, 1, 1, 1, 1, 1]\n",
      "S4: [0, 0, 1, 0, 1, 1, 1, 1, 1, 1]\n",
      "S5: [0, 0, 1, 1, 1, 1, 0, 0, 1, 1]\n",
      "S6: [0, 1, 0, 0, 1, 1, 0, 1, 1, 1]\n",
      "Mutation:\n",
      "Chromosomes after mutation:\n",
      "[[1, 1, 0, 0, 0, 0, 0, 0, 0, 0], [1, 1, 0, 0, 0, 0, 0, 0, 0, 0], [1, 0, 0, 1, 0, 0, 1, 0, 0, 0], [1, 1, 0, 1, 0, 0, 0, 0, 0, 0], [1, 1, 0, 0, 0, 0, 1, 1, 0, 0], [1, 0, 1, 1, 0, 0, 1, 0, 0, 0]]\n",
      "Fitness is greater BEFORE applying Genetic Algorithm\n"
     ]
    }
   ],
   "source": [
    "def calfitness(S):\n",
    "    fit = []\n",
    "    total = 0\n",
    "    for i in S:\n",
    "        fit.append(i.count(1))\n",
    "    total = sum(fit)\n",
    "    return fit\n",
    "\n",
    "S = [\n",
    "    [0, 0, 1, 1, 1, 1, 1, 1, 1, 1],\n",
    "    [0, 0, 1, 1, 1, 1, 1, 1, 1, 1],\n",
    "    [0, 1, 1, 0, 1, 1, 0, 1, 1, 1],\n",
    "    [0, 1, 0, 1, 1, 1, 0, 0, 1, 1],\n",
    "    [0, 0, 1, 0, 1, 1, 1, 1, 1, 1],\n",
    "    [0, 0, 1, 0, 1, 1, 0, 1, 1, 1]\n",
    "]\n",
    "\n",
    "print(\"Initial Population (S):\", S)\n",
    "fit = calfitness(S)\n",
    "\n",
    "print(\"Arranging chromosomes in Descending order\")\n",
    "desc = S[:]\n",
    "for i in range(len(desc)):\n",
    "    for j in range(i + 1, len(desc)):\n",
    "        if desc[i].count(1) < desc[j].count(1):\n",
    "            desc[i], desc[j] = desc[j], desc[i]\n",
    "\n",
    "print(\"Sorted chromosomes:\", desc)\n",
    "\n",
    "print(\"Crossover after 3rd point between S1 and S4, S5 and S6:\")\n",
    "for i in range(3):\n",
    "    desc[0][i], desc[3][i] = desc[3][i], desc[0][i]\n",
    "    desc[4][i], desc[5][i] = desc[5][i], desc[4][i]\n",
    "\n",
    "print(\"After crossover, chromosomes are:\")\n",
    "print(\"S1:\", desc[0])\n",
    "print(\"S4:\", desc[3])\n",
    "print(\"S5:\", desc[4])\n",
    "print(\"S6:\", desc[5])\n",
    "\n",
    "print(\"Mutation:\")\n",
    "for i in range(len(desc)):\n",
    "    for j in range(len(desc[i])):\n",
    "        if desc[i][j] == 0:\n",
    "            desc[i][j] = 1\n",
    "        else:\n",
    "            desc[i][j] = 0\n",
    "\n",
    "print(\"Chromosomes after mutation:\")\n",
    "print(desc)\n",
    "\n",
    "fit2 = calfitness(desc)\n",
    "\n",
    "if fit < fit2:\n",
    "    print(\"Fitness is greater AFTER applying Genetic Algorithm\")\n",
    "else:\n",
    "    print(\"Fitness is greater BEFORE applying Genetic Algorithm\")"
   ]
  },
  {
   "cell_type": "code",
   "execution_count": null,
   "id": "299229d2-08a1-4366-8fd0-f3493afd4687",
   "metadata": {},
   "outputs": [],
   "source": []
  }
 ],
 "metadata": {
  "kernelspec": {
   "display_name": "Python 3 (ipykernel)",
   "language": "python",
   "name": "python3"
  },
  "language_info": {
   "codemirror_mode": {
    "name": "ipython",
    "version": 3
   },
   "file_extension": ".py",
   "mimetype": "text/x-python",
   "name": "python",
   "nbconvert_exporter": "python",
   "pygments_lexer": "ipython3",
   "version": "3.12.7"
  }
 },
 "nbformat": 4,
 "nbformat_minor": 5
}
