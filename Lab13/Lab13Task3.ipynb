{
 "cells": [
  {
   "cell_type": "code",
   "execution_count": 9,
   "id": "a18a01b4-055a-4b25-97b5-286e01dc65d3",
   "metadata": {},
   "outputs": [
    {
     "name": "stdin",
     "output_type": "stream",
     "text": [
      "Enter number of chromosomes:  2\n",
      "Enter chromosome length:  3\n"
     ]
    },
    {
     "name": "stdout",
     "output_type": "stream",
     "text": [
      "Enter the chromosome 1 (gene by gene):\n"
     ]
    },
    {
     "name": "stdin",
     "output_type": "stream",
     "text": [
      "Enter gene 1 (0 or 1):  1\n",
      "Enter gene 2 (0 or 1):  0\n",
      "Enter gene 3 (0 or 1):  1\n"
     ]
    },
    {
     "name": "stdout",
     "output_type": "stream",
     "text": [
      "Enter the chromosome 2 (gene by gene):\n"
     ]
    },
    {
     "name": "stdin",
     "output_type": "stream",
     "text": [
      "Enter gene 1 (0 or 1):  1\n",
      "Enter gene 2 (0 or 1):  1\n",
      "Enter gene 3 (0 or 1):  0\n"
     ]
    },
    {
     "name": "stdout",
     "output_type": "stream",
     "text": [
      "Initial Population (S): [[1, 0, 1], [1, 1, 0]]\n",
      "Arranging chromosomes in Descending order\n",
      "Sorted chromosomes: [[1, 0, 1], [1, 1, 0]]\n",
      "Not enough chromosomes for crossover.\n",
      "Mutation:\n",
      "Chromosomes after mutation:\n",
      "[[0, 1, 0], [0, 0, 1]]\n",
      "Fitness is greater before applying Genetic Algorithm\n"
     ]
    }
   ],
   "source": [
    "def calfitness(S):\n",
    "    fit = []\n",
    "    total = 0\n",
    "    for i in S:\n",
    "        fit.append(i.count(1))\n",
    "    total = sum(fit)\n",
    "    return fit\n",
    "\n",
    "num_chromosomes = int(input(\"Enter number of chromosomes: \"))\n",
    "chromosome_length = int(input(\"Enter chromosome length: \"))\n",
    "\n",
    "S = []\n",
    "for i in range(num_chromosomes):\n",
    "    chromosome = []\n",
    "    print(f\"Enter the chromosome {i + 1} (gene by gene):\")\n",
    "    for j in range(chromosome_length):\n",
    "        while True:\n",
    "            try:\n",
    "                gene = int(input(f\"Enter gene {j + 1} (0 or 1): \"))\n",
    "                if gene in [0, 1]:\n",
    "                    chromosome.append(gene)\n",
    "                    break\n",
    "                else:\n",
    "                    print(\"Gene must be 0 or 1. Try again.\")\n",
    "            except ValueError:\n",
    "                print(\"Invalid input. Please enter 0 or 1.\")\n",
    "    S.append(chromosome)\n",
    "\n",
    "print(\"Initial Population (S):\", S)\n",
    "fit = calfitness(S)\n",
    "\n",
    "print(\"Arranging chromosomes in Descending order\")\n",
    "desc = S[:]\n",
    "desc.sort(key=lambda x: x.count(1), reverse=True)\n",
    "\n",
    "print(\"Sorted chromosomes:\", desc)\n",
    "\n",
    "if len(desc) >= 3:\n",
    "    print(\"Crossover after 4th point between S2 and S3:\")\n",
    "    for i in range(4, len(desc[1])):\n",
    "        desc[1][i], desc[2][i] = desc[2][i], desc[1][i]\n",
    "\n",
    "    print(\"After crossover, chromosomes are:\")\n",
    "    print(\"S2:\", desc[1])\n",
    "    print(\"S3:\", desc[2])\n",
    "else:\n",
    "    print(\"Not enough chromosomes for crossover.\")\n",
    "\n",
    "print(\"Mutation:\")\n",
    "for i in range(len(desc)):\n",
    "    for j in range(len(desc[i])):\n",
    "        desc[i][j] = 1 - desc[i][j]  # Flip the gene (0 -> 1, 1 -> 0)\n",
    "\n",
    "print(\"Chromosomes after mutation:\")\n",
    "print(desc)\n",
    "\n",
    "fit2 = calfitness(desc)\n",
    "\n",
    "if sum(fit) < sum(fit2):\n",
    "    print(\"Fitness is greater after applying Genetic Algorithm\")\n",
    "else:\n",
    "    print(\"Fitness is greater before applying Genetic Algorithm\")\n"
   ]
  },
  {
   "cell_type": "code",
   "execution_count": null,
   "id": "faa83fed-a345-4823-a2b9-44a101e04bb1",
   "metadata": {},
   "outputs": [],
   "source": []
  }
 ],
 "metadata": {
  "kernelspec": {
   "display_name": "Python 3 (ipykernel)",
   "language": "python",
   "name": "python3"
  },
  "language_info": {
   "codemirror_mode": {
    "name": "ipython",
    "version": 3
   },
   "file_extension": ".py",
   "mimetype": "text/x-python",
   "name": "python",
   "nbconvert_exporter": "python",
   "pygments_lexer": "ipython3",
   "version": "3.12.7"
  }
 },
 "nbformat": 4,
 "nbformat_minor": 5
}
