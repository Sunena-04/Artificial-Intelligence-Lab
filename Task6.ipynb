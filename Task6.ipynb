{
 "cells": [
  {
   "cell_type": "code",
   "execution_count": 2,
   "id": "005ddf16-ef56-4ea0-b4d6-7520c3af5d9b",
   "metadata": {},
   "outputs": [
    {
     "name": "stdout",
     "output_type": "stream",
     "text": [
      "Mean Absolute Error: 1298.581194980332\n",
      "Mean Squared Error: 2357989.920626307\n",
      "R-squared: 0.976420100793737\n",
      "The predicted price for the new house is: $527,926.46\n"
     ]
    },
    {
     "name": "stderr",
     "output_type": "stream",
     "text": [
      "C:\\Users\\HP\\anaconda3\\Lib\\site-packages\\sklearn\\base.py:493: UserWarning: X does not have valid feature names, but StandardScaler was fitted with feature names\n",
      "  warnings.warn(\n"
     ]
    }
   ],
   "source": [
    "import pandas as pd\n",
    "from sklearn.model_selection import train_test_split\n",
    "from sklearn.linear_model import LinearRegression\n",
    "from sklearn.metrics import mean_absolute_error, mean_squared_error, r2_score\n",
    "from sklearn.preprocessing import StandardScaler\n",
    "# Sample data (real data should have more entries and real values)\n",
    "data = {\n",
    "    \"Bedrooms\": [2, 3, 3, 4, 4, 5, 2, 3, 3, 4],\n",
    "    \"Size_in_sqft\": [1500, 1800, 1600, 2500, 2200, 3000, 1300, 1700, 1900, 2100],\n",
    "    \"Age_of_House\": [10, 15, 20, 5, 8, 2, 25, 18, 12, 6],\n",
    "    \"Price\": [400000, 500000, 450000, 700000, 650000, 800000, 350000, 480000, 520000, 680000]  # House prices\n",
    "}\n",
    "# Create DataFrame\n",
    "df = pd.DataFrame(data)\n",
    "# Features and target\n",
    "X = df[[\"Bedrooms\", \"Size_in_sqft\", \"Age_of_House\"]]\n",
    "y = df[\"Price\"]\n",
    "# Split data into training and testing sets\n",
    "X_train, X_test, y_train, y_test = train_test_split(X, y, test_size=0.2, random_state=42)\n",
    "# Standardize the features (optional, but can help if features have different scales)\n",
    "scaler = StandardScaler()\n",
    "X_train_scaled = scaler.fit_transform(X_train)\n",
    "X_test_scaled = scaler.transform(X_test)\n",
    "# Initialize the Linear Regression model\n",
    "model = LinearRegression()\n",
    "# Train the model\n",
    "model.fit(X_train_scaled, y_train)\n",
    "# Make predictions on the test set\n",
    "y_pred = model.predict(X_test_scaled)\n",
    "# Evaluate the model\n",
    "mae = mean_absolute_error(y_test, y_pred)\n",
    "mse = mean_squared_error(y_test, y_pred)\n",
    "r2 = r2_score(y_test, y_pred)\n",
    "# Print the evaluation metrics\n",
    "print(f\"Mean Absolute Error: {mae}\")\n",
    "print(f\"Mean Squared Error: {mse}\")\n",
    "print(f\"R-squared: {r2}\")\n",
    "# To predict the price of a new house\n",
    "new_house = [[3, 1800, 10]]  # Example: 3 Bedrooms, 1800 sqft, 10 years old\n",
    "new_house_scaled = scaler.transform(new_house)\n",
    "predicted_price = model.predict(new_house_scaled)\n",
    "print(f\"The predicted price for the new house is: ${predicted_price[0]:,.2f}\")"
   ]
  },
  {
   "cell_type": "code",
   "execution_count": null,
   "id": "c3297273-4af2-4eb5-ba5b-26a352f9a12d",
   "metadata": {},
   "outputs": [],
   "source": []
  }
 ],
 "metadata": {
  "kernelspec": {
   "display_name": "Python 3 (ipykernel)",
   "language": "python",
   "name": "python3"
  },
  "language_info": {
   "codemirror_mode": {
    "name": "ipython",
    "version": 3
   },
   "file_extension": ".py",
   "mimetype": "text/x-python",
   "name": "python",
   "nbconvert_exporter": "python",
   "pygments_lexer": "ipython3",
   "version": "3.12.7"
  }
 },
 "nbformat": 4,
 "nbformat_minor": 5
}
