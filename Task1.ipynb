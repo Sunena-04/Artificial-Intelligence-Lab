{
 "cells": [
  {
   "cell_type": "code",
   "execution_count": 3,
   "id": "decdeb76-23c7-4de2-87a2-3dd258129a3a",
   "metadata": {},
   "outputs": [
    {
     "name": "stdout",
     "output_type": "stream",
     "text": [
      "Original DataFrame:\n",
      "    Student  Math  English  Science\n",
      "0    Alice  85.0      NaN     90.0\n",
      "1      Bob   NaN     88.0      NaN\n",
      "2  Charlie  78.0     80.0     85.0\n",
      "3    David   NaN     75.0     89.0\n",
      "4      Eva  92.0      NaN      NaN\n",
      "\n",
      "DataFrame after forward fill:\n",
      "    Student  Math  English  Science\n",
      "0    Alice  85.0      NaN     90.0\n",
      "1      Bob  85.0     88.0     90.0\n",
      "2  Charlie  78.0     80.0     85.0\n",
      "3    David  78.0     75.0     89.0\n",
      "4      Eva  92.0     75.0     89.0\n"
     ]
    }
   ],
   "source": [
    "import pandas as pd\n",
    "# Sample data\n",
    "data = {\n",
    "    \"Student\": [\"Alice\", \"Bob\", \"Charlie\", \"David\", \"Eva\"],\n",
    "    \"Math\": [85, None, 78, None, 92],\n",
    "    \"English\": [None, 88, 80, 75, None],\n",
    "    \"Science\": [90, None, 85, 89, None]\n",
    "}\n",
    "# Create DataFrame\n",
    "df = pd.DataFrame(data)\n",
    "# Forward fill missing values\n",
    "df_filled = df.ffill()\n",
    "print(\"Original DataFrame:\\n\", df)\n",
    "print(\"\\nDataFrame after forward fill:\\n\", df_filled)"
   ]
  },
  {
   "cell_type": "code",
   "execution_count": null,
   "id": "b0226deb-10f1-4a25-958e-dd601d3e2d54",
   "metadata": {},
   "outputs": [],
   "source": []
  }
 ],
 "metadata": {
  "kernelspec": {
   "display_name": "Python 3 (ipykernel)",
   "language": "python",
   "name": "python3"
  },
  "language_info": {
   "codemirror_mode": {
    "name": "ipython",
    "version": 3
   },
   "file_extension": ".py",
   "mimetype": "text/x-python",
   "name": "python",
   "nbconvert_exporter": "python",
   "pygments_lexer": "ipython3",
   "version": "3.12.7"
  }
 },
 "nbformat": 4,
 "nbformat_minor": 5
}
