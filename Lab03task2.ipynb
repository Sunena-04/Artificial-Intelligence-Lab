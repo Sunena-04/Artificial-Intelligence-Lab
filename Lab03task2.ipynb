{
 "cells": [
  {
   "cell_type": "code",
   "execution_count": 3,
   "id": "f53fe06c-2f77-40fd-8546-e5be40c4fc45",
   "metadata": {},
   "outputs": [
    {
     "name": "stdout",
     "output_type": "stream",
     "text": [
      "The predicted classification for the new tissue paper is: Y = 'A'\n"
     ]
    }
   ],
   "source": [
    "import numpy as np\n",
    "from collections import Counter\n",
    "\n",
    "# Training samples: (X1, X2, Y)\n",
    "training_samples = [\n",
    "    (7, 7, 'A'),\n",
    "    (7, 4, 'B'),\n",
    "    (3, 4, 'A'),\n",
    "    (1, 4, 'B')\n",
    "]\n",
    "\n",
    "# Query instance\n",
    "query_instance = (3, 7)\n",
    "\n",
    "# Function to calculate Euclidean distance\n",
    "def euclidean_distance(point1, point2):\n",
    "    return np.sqrt((point1[0] - point2[0]) ** 2 + (point1[1] - point2[1]) ** 2)\n",
    "\n",
    "# Calculate distances\n",
    "distances = []\n",
    "for sample in training_samples:\n",
    "    distance = euclidean_distance(query_instance, sample[:2])\n",
    "    distances.append((distance, sample[2]))  # (distance, class)\n",
    "\n",
    "# Sort distances\n",
    "distances.sort(key=lambda x: x[0])\n",
    "\n",
    "# Get the K nearest neighbors (K=3)\n",
    "K = 3\n",
    "nearest_neighbors = distances[:K]\n",
    "\n",
    "# Gather the classes of the nearest neighbors\n",
    "classes = [neighbor[1] for neighbor in nearest_neighbors]\n",
    "\n",
    "# Perform majority vote\n",
    "majority_class = Counter(classes).most_common(1)[0][0]\n",
    "\n",
    "# Output the prediction\n",
    "print(f\"The predicted classification for the new tissue paper is: Y = '{majority_class}'\")"
   ]
  },
  {
   "cell_type": "code",
   "execution_count": 4,
   "id": "8e3c180c-c911-4118-8d24-4358abd1f86e",
   "metadata": {},
   "outputs": [
    {
     "name": "stdout",
     "output_type": "stream",
     "text": [
      "The predicted classification for the new tissue paper is: Y = 'good'\n"
     ]
    }
   ],
   "source": [
    "import numpy as np\n",
    "from collections import Counter\n",
    "\n",
    "# Define the training samples\n",
    "X1 = [7, 7, 3, 1]  # Acid durability (sec)\n",
    "X2 = [7, 4, 4, 4]  # Strength (kg/m2)\n",
    "Y = ['bad', 'bad', 'good', 'good']  # Classification\n",
    "\n",
    "# Combine the attributes into a list of tuples\n",
    "training_samples = list(zip(X1, X2, Y))\n",
    "\n",
    "# Query instance\n",
    "query_instance = (3, 7)\n",
    "\n",
    "# Function to calculate Euclidean distance\n",
    "def euclidean_distance(point1, point2):\n",
    "    return np.sqrt((point1[0] - point2[0]) ** 2 + (point1[1] - point2[1]) ** 2)\n",
    "\n",
    "# Calculate distances from the query instance to each training sample\n",
    "distances = []\n",
    "for sample in training_samples:\n",
    "    distance = euclidean_distance(query_instance, sample[:2])  # Use only X1 and X2\n",
    "    distances.append((distance, sample[2]))  # (distance, class)\n",
    "\n",
    "# Sort distances in ascending order\n",
    "distances.sort(key=lambda x: x[0])\n",
    "\n",
    "# Get the K nearest neighbors (K=3)\n",
    "K = 3\n",
    "nearest_neighbors = distances[:K]\n",
    "\n",
    "# Gather the classes of the nearest neighbors\n",
    "classes = [neighbor[1] for neighbor in nearest_neighbors]\n",
    "\n",
    "# Perform majority vote to determine the predicted class\n",
    "majority_class = Counter(classes).most_common(1)[0][0]\n",
    "\n",
    "# Output the prediction\n",
    "print(f\"The predicted classification for the new tissue paper is: Y = '{majority_class}'\")"
   ]
  },
  {
   "cell_type": "code",
   "execution_count": null,
   "id": "80557efd-a702-4c5b-a352-1529def53f1d",
   "metadata": {},
   "outputs": [],
   "source": []
  }
 ],
 "metadata": {
  "kernelspec": {
   "display_name": "Python 3 (ipykernel)",
   "language": "python",
   "name": "python3"
  },
  "language_info": {
   "codemirror_mode": {
    "name": "ipython",
    "version": 3
   },
   "file_extension": ".py",
   "mimetype": "text/x-python",
   "name": "python",
   "nbconvert_exporter": "python",
   "pygments_lexer": "ipython3",
   "version": "3.11.7"
  }
 },
 "nbformat": 4,
 "nbformat_minor": 5
}
