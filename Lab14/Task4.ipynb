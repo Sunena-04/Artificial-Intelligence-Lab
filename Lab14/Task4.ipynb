{
 "cells": [
  {
   "cell_type": "code",
   "execution_count": 4,
   "id": "9f4badef-7630-4db2-853d-ea2ff0d5d247",
   "metadata": {},
   "outputs": [
    {
     "name": "stdout",
     "output_type": "stream",
     "text": [
      "Displaying Students:\n",
      "\n",
      "Student ID: 1\n",
      "Name: Ben\n",
      "Grade: 65\n",
      "------\n",
      "Student ID: 2\n",
      "Name: Laura\n",
      "Grade: 82\n",
      "------\n",
      "Student ID: 3\n",
      "Name: Sam\n",
      "Grade: 90\n",
      "------\n",
      "Average Grade of All Students: 79.00\n"
     ]
    }
   ],
   "source": [
    "student_db = {}\n",
    "def add_student(student_id, name, grade):\n",
    "    student_db[student_id] = {'name': name, 'grade': grade}\n",
    "def display_students():\n",
    "    if not student_db:\n",
    "        print(\"No students found in the database.\")\n",
    "    else:\n",
    "        for student_id, student_info in student_db.items():\n",
    "            print(f\"Student ID: {student_id}\")\n",
    "            print(f\"Name: {student_info['name']}\")\n",
    "            print(f\"Grade: {student_info['grade']}\")\n",
    "            print(\"------\")\n",
    "def get_average_grade():\n",
    "    if not student_db:\n",
    "        return 0  \n",
    "    total_grades = sum(student_info['grade'] for student_info in student_db.values())\n",
    "    total_students = len(student_db)\n",
    "    return total_grades / total_students\n",
    "add_student(1, 'Ben', 65)\n",
    "add_student(2, 'Laura', 82)\n",
    "add_student(3, 'Sam', 90)\n",
    "print(\"Displaying Students:\\n\")\n",
    "display_students()\n",
    "average_grade = get_average_grade()\n",
    "print(f\"Average Grade of All Students: {average_grade:.2f}\")"
   ]
  },
  {
   "cell_type": "code",
   "execution_count": null,
   "id": "e72fef1f-2639-4c71-a8c8-4b32455f081b",
   "metadata": {},
   "outputs": [],
   "source": []
  }
 ],
 "metadata": {
  "kernelspec": {
   "display_name": "Python 3 (ipykernel)",
   "language": "python",
   "name": "python3"
  },
  "language_info": {
   "codemirror_mode": {
    "name": "ipython",
    "version": 3
   },
   "file_extension": ".py",
   "mimetype": "text/x-python",
   "name": "python",
   "nbconvert_exporter": "python",
   "pygments_lexer": "ipython3",
   "version": "3.12.7"
  }
 },
 "nbformat": 4,
 "nbformat_minor": 5
}
