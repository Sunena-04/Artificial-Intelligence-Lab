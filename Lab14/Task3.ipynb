{
 "cells": [
  {
   "cell_type": "code",
   "execution_count": 7,
   "id": "cd42970a-00ce-4c67-949d-9f0fcd64845b",
   "metadata": {},
   "outputs": [
    {
     "name": "stdout",
     "output_type": "stream",
     "text": [
      "Total number of employees: 3\n",
      "Employee Name: Ali\n",
      "Employee ID: 15\n",
      "Salary: $80000\n",
      "Employee Name: Sara\n",
      "Employee ID: 16\n",
      "Salary: $50000\n",
      "Employee Name: Hamza\n",
      "Employee ID: 17\n",
      "Salary: $70000\n"
     ]
    }
   ],
   "source": [
    "class Employee:\n",
    "    total_employees = 0\n",
    "\n",
    "    def __init__(self, empName, empID, salary):\n",
    "        self.empName = empName  \n",
    "        self.empID = empID    \n",
    "        self.salary = salary    \n",
    "        Employee.total_employees += 1\n",
    "    @classmethod\n",
    "    def displayCount(cls):\n",
    "        print(f\"Total number of employees: {cls.total_employees}\")\n",
    "    def displayEmployee(self):\n",
    "        print(f\"Employee Name: {self.empName}\")\n",
    "        print(f\"Employee ID: {self.empID}\")\n",
    "        print(f\"Salary: ${self.salary}\")\n",
    "emp1 = Employee(\"Ali\", 15, 80000)\n",
    "emp2 = Employee(\"Sara\", 16, 50000)\n",
    "emp3 = Employee(\"Hamza\", 17, 70000)\n",
    "Employee.displayCount()\n",
    "emp1.displayEmployee()\n",
    "emp2.displayEmployee()\n",
    "emp3.displayEmployee()"
   ]
  },
  {
   "cell_type": "code",
   "execution_count": null,
   "id": "212af1d2-6208-4a1d-ab70-c352eb6f3021",
   "metadata": {},
   "outputs": [],
   "source": []
  }
 ],
 "metadata": {
  "kernelspec": {
   "display_name": "Python 3 (ipykernel)",
   "language": "python",
   "name": "python3"
  },
  "language_info": {
   "codemirror_mode": {
    "name": "ipython",
    "version": 3
   },
   "file_extension": ".py",
   "mimetype": "text/x-python",
   "name": "python",
   "nbconvert_exporter": "python",
   "pygments_lexer": "ipython3",
   "version": "3.12.7"
  }
 },
 "nbformat": 4,
 "nbformat_minor": 5
}
