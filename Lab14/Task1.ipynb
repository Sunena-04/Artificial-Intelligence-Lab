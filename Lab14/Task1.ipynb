{
 "cells": [
  {
   "cell_type": "code",
   "execution_count": 1,
   "id": "6e7a2da0-5616-474c-915c-f97cf72c4d34",
   "metadata": {},
   "outputs": [
    {
     "name": "stdout",
     "output_type": "stream",
     "text": [
      "Shortest Path using BFS: ['A', 'C', 'F']\n"
     ]
    }
   ],
   "source": [
    "from collections import deque\n",
    "graph = {\n",
    "    'A': ['B', 'C', 'D'],\n",
    "    'B': [],\n",
    "    'C': ['E', 'F'],\n",
    "    'D': ['F'],\n",
    "    'E': [],\n",
    "    'F': []\n",
    "}\n",
    "def bfs_shortest_path(graph, start, goal):\n",
    "    open_list = deque([[start]])  \n",
    "    while open_list:\n",
    "        path = open_list.popleft()  \n",
    "        current = path[-1]         \n",
    "        if current == goal:       \n",
    "            return path\n",
    "        for neighbor in graph[current]:\n",
    "            if neighbor not in path:  \n",
    "                new_path = list(path)\n",
    "                new_path.append(neighbor)\n",
    "                open_list.append(new_path)\n",
    "start_node = 'A'\n",
    "goal_node = 'F'\n",
    "shortest_path = bfs_shortest_path(graph, start_node, goal_node)\n",
    "print(\"Shortest Path using BFS:\", shortest_path)"
   ]
  },
  {
   "cell_type": "code",
   "execution_count": null,
   "id": "6913af18-df02-41f4-8947-7b30ad5bca1d",
   "metadata": {},
   "outputs": [],
   "source": []
  }
 ],
 "metadata": {
  "kernelspec": {
   "display_name": "Python 3 (ipykernel)",
   "language": "python",
   "name": "python3"
  },
  "language_info": {
   "codemirror_mode": {
    "name": "ipython",
    "version": 3
   },
   "file_extension": ".py",
   "mimetype": "text/x-python",
   "name": "python",
   "nbconvert_exporter": "python",
   "pygments_lexer": "ipython3",
   "version": "3.12.7"
  }
 },
 "nbformat": 4,
 "nbformat_minor": 5
}
