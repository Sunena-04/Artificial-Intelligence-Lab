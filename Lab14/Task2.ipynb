{
 "cells": [
  {
   "cell_type": "code",
   "execution_count": 2,
   "id": "fa2dfa23-05ca-45d0-969a-23bf9ffc3f96",
   "metadata": {},
   "outputs": [
    {
     "name": "stdout",
     "output_type": "stream",
     "text": [
      "Path: ['A', 'B', 'C', 'E', 'F']\n",
      "Open List: ['D']\n",
      "Closed List: {'E', 'C', 'F', 'B', 'A'}\n"
     ]
    }
   ],
   "source": [
    "graph = {\n",
    "    'A': ['B', 'C', 'D'],\n",
    "    'B': [],\n",
    "    'C': ['E', 'F'],\n",
    "    'D': ['F'],\n",
    "    'E': [],\n",
    "    'F': []\n",
    "}\n",
    "def dfs(graph, start, goal):\n",
    "    open_list = [start] \n",
    "    closed_list = set()  \n",
    "    path = []            \n",
    "    while open_list:\n",
    "        node = open_list.pop()  \n",
    "        if node in closed_list:\n",
    "            continue  \n",
    "        closed_list.add(node)  \n",
    "        path.append(node)      \n",
    "        if node == goal:      \n",
    "            return path, open_list, closed_list\n",
    "        for neighbor in reversed(graph[node]):\n",
    "            if neighbor not in closed_list:\n",
    "                open_list.append(neighbor)\n",
    "    return path, open_list, closed_list \n",
    "start_node = 'A'\n",
    "goal_node = 'F'\n",
    "path, open_list, closed_list = dfs(graph, start_node, goal_node)\n",
    "print(\"Path:\", path)\n",
    "print(\"Open List:\", open_list)\n",
    "print(\"Closed List:\", closed_list)"
   ]
  },
  {
   "cell_type": "code",
   "execution_count": null,
   "id": "e9699c62-6ad0-4af1-9dd8-ff904d089313",
   "metadata": {},
   "outputs": [],
   "source": []
  }
 ],
 "metadata": {
  "kernelspec": {
   "display_name": "Python 3 (ipykernel)",
   "language": "python",
   "name": "python3"
  },
  "language_info": {
   "codemirror_mode": {
    "name": "ipython",
    "version": 3
   },
   "file_extension": ".py",
   "mimetype": "text/x-python",
   "name": "python",
   "nbconvert_exporter": "python",
   "pygments_lexer": "ipython3",
   "version": "3.12.7"
  }
 },
 "nbformat": 4,
 "nbformat_minor": 5
}
