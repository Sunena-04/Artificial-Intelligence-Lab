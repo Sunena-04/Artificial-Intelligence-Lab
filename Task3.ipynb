{
 "cells": [
  {
   "cell_type": "code",
   "execution_count": 4,
   "id": "dab47193-a32b-4c15-93da-d6fedd707047",
   "metadata": {},
   "outputs": [
    {
     "name": "stdout",
     "output_type": "stream",
     "text": [
      "Accuracy: 0.5\n",
      "\n",
      "Confusion Matrix:\n",
      " [[1 0]\n",
      " [1 0]]\n",
      "\n",
      "Classification Report:\n",
      "               precision    recall  f1-score   support\n",
      "\n",
      "           0       0.50      1.00      0.67         1\n",
      "           1       0.00      0.00      0.00         1\n",
      "\n",
      "    accuracy                           0.50         2\n",
      "   macro avg       0.25      0.50      0.33         2\n",
      "weighted avg       0.25      0.50      0.33         2\n",
      "\n",
      "\n",
      "The new applicant is classified as: Low risk\n"
     ]
    },
    {
     "name": "stderr",
     "output_type": "stream",
     "text": [
      "C:\\Users\\HP\\anaconda3\\Lib\\site-packages\\sklearn\\metrics\\_classification.py:1531: UndefinedMetricWarning: Precision is ill-defined and being set to 0.0 in labels with no predicted samples. Use `zero_division` parameter to control this behavior.\n",
      "  _warn_prf(average, modifier, f\"{metric.capitalize()} is\", len(result))\n",
      "C:\\Users\\HP\\anaconda3\\Lib\\site-packages\\sklearn\\metrics\\_classification.py:1531: UndefinedMetricWarning: Precision is ill-defined and being set to 0.0 in labels with no predicted samples. Use `zero_division` parameter to control this behavior.\n",
      "  _warn_prf(average, modifier, f\"{metric.capitalize()} is\", len(result))\n",
      "C:\\Users\\HP\\anaconda3\\Lib\\site-packages\\sklearn\\metrics\\_classification.py:1531: UndefinedMetricWarning: Precision is ill-defined and being set to 0.0 in labels with no predicted samples. Use `zero_division` parameter to control this behavior.\n",
      "  _warn_prf(average, modifier, f\"{metric.capitalize()} is\", len(result))\n"
     ]
    }
   ],
   "source": [
    "import pandas as pd\n",
    "from sklearn.model_selection import train_test_split\n",
    "from sklearn.tree import DecisionTreeClassifier\n",
    "from sklearn.metrics import accuracy_score, confusion_matrix, classification_report\n",
    "from sklearn.preprocessing import StandardScaler\n",
    "# Sample dataset\n",
    "data = {\n",
    "    \"Credit_Score\": [700, 650, 750, 600, 720, 580, 690, 710, 740, 640],\n",
    "    \"Income\": [50000, 45000, 70000, 30000, 60000, 25000, 55000, 65000, 80000, 40000],\n",
    "    \"Loan_Amount\": [15000, 10000, 20000, 5000, 12000, 4000, 13000, 15000, 25000, 8000],\n",
    "    \"Debt_to_Income_Ratio\": [0.3, 0.4, 0.2, 0.5, 0.3, 0.6, 0.35, 0.25, 0.2, 0.45],\n",
    "    \"Employment_Status\": [1, 0, 1, 0, 1, 0, 1, 1, 1, 0],  # 1: Employed, 0: Unemployed\n",
    "    \"Risk\": [\"Low risk\", \"High risk\", \"Low risk\", \"High risk\", \"Low risk\", \"High risk\", \"Low risk\", \"Low risk\", \"Low risk\", \"High risk\"]\n",
    "}\n",
    "# Convert to DataFrame\n",
    "df = pd.DataFrame(data)\n",
    "# Features and target\n",
    "X = df[[\"Credit_Score\", \"Income\", \"Loan_Amount\", \"Debt_to_Income_Ratio\", \"Employment_Status\"]]\n",
    "y = df[\"Risk\"]\n",
    "# Convert target labels to numeric (High risk = 1, Low risk = 0)\n",
    "y = y.map({\"Low risk\": 0, \"High risk\": 1})\n",
    "# Split data into training and testing sets\n",
    "X_train, X_test, y_train, y_test = train_test_split(X, y, test_size=0.2, random_state=42)\n",
    "# Scale the features\n",
    "scaler = StandardScaler()\n",
    "X_train = scaler.fit_transform(X_train)\n",
    "X_test = scaler.transform(X_test)\n",
    "# Initialize and train Decision Tree classifier\n",
    "dt = DecisionTreeClassifier(random_state=42)\n",
    "dt.fit(X_train, y_train)\n",
    "# Predictions\n",
    "y_pred = dt.predict(X_test)\n",
    "# Evaluate the model\n",
    "accuracy = accuracy_score(y_test, y_pred)\n",
    "conf_matrix = confusion_matrix(y_test, y_pred)\n",
    "class_report = classification_report(y_test, y_pred)\n",
    "# Print results\n",
    "print(\"Accuracy:\", accuracy)\n",
    "print(\"\\nConfusion Matrix:\\n\", conf_matrix)\n",
    "print(\"\\nClassification Report:\\n\", class_report)\n",
    "# New applicant data for prediction\n",
    "new_applicant = {\n",
    "    \"Credit_Score\": 680, \"Income\": 55000, \"Loan_Amount\": 12000,\n",
    "    \"Debt_to_Income_Ratio\": 0.32,\n",
    "    \"Employment_Status\": 1  # Employed\n",
    "}\n",
    "# Convert the new applicant's data into a DataFrame and scale it\n",
    "new_applicant_df = pd.DataFrame([new_applicant])\n",
    "new_applicant_scaled = scaler.transform(new_applicant_df)\n",
    "# Predict the risk of the new applicant\n",
    "prediction = dt.predict(new_applicant_scaled)\n",
    "# Convert numeric prediction back to \"Low risk\" or \"High risk\"\n",
    "risk = 'Low risk' if prediction == 0 else 'High risk'\n",
    "# Output a statement for the new applicant\n",
    "print(f\"\\nThe new applicant is classified as: {risk}\")"
   ]
  },
  {
   "cell_type": "code",
   "execution_count": null,
   "id": "401b2108-a65f-4098-8fdc-890b1868e5f6",
   "metadata": {},
   "outputs": [],
   "source": []
  }
 ],
 "metadata": {
  "kernelspec": {
   "display_name": "Python 3 (ipykernel)",
   "language": "python",
   "name": "python3"
  },
  "language_info": {
   "codemirror_mode": {
    "name": "ipython",
    "version": 3
   },
   "file_extension": ".py",
   "mimetype": "text/x-python",
   "name": "python",
   "nbconvert_exporter": "python",
   "pygments_lexer": "ipython3",
   "version": "3.12.7"
  }
 },
 "nbformat": 4,
 "nbformat_minor": 5
}
